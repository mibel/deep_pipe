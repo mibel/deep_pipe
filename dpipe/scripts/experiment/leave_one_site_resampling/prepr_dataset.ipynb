{
 "cells": [
  {
   "cell_type": "code",
   "execution_count": 1,
   "metadata": {
    "collapsed": true
   },
   "outputs": [],
   "source": [
    "import os\n",
    "import shutil\n",
    "from subprocess import Popen, PIPE\n",
    "from multiprocessing import Pool, cpu_count\n",
    "\n",
    "import numpy as np"
   ]
  },
  {
   "cell_type": "code",
   "execution_count": 2,
   "metadata": {
    "collapsed": true
   },
   "outputs": [],
   "source": [
    "def run_docker(cmd, container_name):  \n",
    "    try:\n",
    "        proc = Popen(cmd, shell=True, stdout=PIPE, stderr=PIPE)\n",
    "        _ = proc.wait()\n",
    "        if _!=0:\n",
    "            print(proc.stdout())\n",
    "            return False\n",
    "    except Exception as e:\n",
    "        print (proc.communicate())\n",
    "        print (e)\n",
    "        proc_kill = Popen('docker stop ' + container_name, shell=True, stdout=PIPE)\n",
    "        proc_kill.wait()\n",
    "        proc_kill = Popen('docker rm ' + container_name, shell=True, stdout=PIPE)\n",
    "        proc_kill.wait()\n",
    "        proc.kill()\n",
    "        return False\n",
    "    return True"
   ]
  },
  {
   "cell_type": "code",
   "execution_count": 3,
   "metadata": {
    "collapsed": true
   },
   "outputs": [],
   "source": [
    "def bet_brain_mask(docker_container_name, path_to_sourse, file_name):\n",
    "    DOCKER_NAME = 'brain_pipeline/frsrf_minc_fsl'\n",
    "    return '''docker run --rm \\\n",
    "    --name {1} \\\n",
    "    -v {2}:/input \\\n",
    "    {0} \\\n",
    "    bash -c \". /etc/fsl/5.0/fsl.sh \\\n",
    "    && bet /input/{3} /input/brainmask_{3} -m -n -f .4\\\n",
    "    \" '''.format(DOCKER_NAME, # 0\n",
    "                 docker_container_name, # 1\n",
    "                 path_to_sourse, # 2\n",
    "                 file_name # 3\n",
    "                 )"
   ]
  },
  {
   "cell_type": "code",
   "execution_count": 4,
   "metadata": {
    "collapsed": true
   },
   "outputs": [],
   "source": [
    "def skull_strip_for(path_to_sourse, file_name):\n",
    "    '''\n",
    "    For new registered img apply skull stripping.\n",
    "    '''\n",
    "    docker_container_name = get_rnd_string()\n",
    "    cmd = bet_brain_mask(docker_container_name, path_to_sourse, file_name)\n",
    "    print(cmd)\n",
    "    _ = run_docker(cmd, docker_container_name)\n",
    "    return _"
   ]
  },
  {
   "cell_type": "code",
   "execution_count": 5,
   "metadata": {
    "collapsed": true
   },
   "outputs": [],
   "source": [
    "def flirt_brain_isotropy(docker_container_name, path_to_sourse):\n",
    "    DOCKER_NAME = 'brain_pipeline/frsrf_minc_fsl'\n",
    "    return '''docker run --rm \\\n",
    "    --name {1} \\\n",
    "    -v {2}:/input \\\n",
    "    {0} \\\n",
    "    bash -c \". /etc/fsl/5.0/fsl.sh \\\n",
    "    && flirt -in /input/pre/FLAIR.nii.gz -ref /input/pre/FLAIR.nii.gz -out /input/pre/reg_FLAIR.nii.gz -omat /input/pre/some_transform.mat -applyisoxfm 1 \\\n",
    "    && flirt -in /input/wmh.nii.gz -ref /input/pre/reg_FLAIR.nii.gz -out /input/reg_wmh.nii.gz -init /input/pre/some_transform.mat -applyisoxfm 1 \\\n",
    "    && flirt -in /input/pre/T1.nii.gz -ref /input/pre/reg_FLAIR.nii.gz -out /input/pre/reg_T1.nii.gz -init /input/pre/some_transform.mat -applyisoxfm 1 \\\n",
    "    \" '''.format(DOCKER_NAME, # 0\n",
    "                 docker_container_name, # 1\n",
    "                 path_to_sourse # 2\n",
    "                 )"
   ]
  },
  {
   "cell_type": "code",
   "execution_count": 6,
   "metadata": {
    "collapsed": true
   },
   "outputs": [],
   "source": [
    "def isotr_transform_for(path_to_sourse):\n",
    "    '''\n",
    "    For img apply tranform.\n",
    "    '''\n",
    "    docker_container_name = get_rnd_string()\n",
    "    cmd = flirt_brain_isotropy(docker_container_name, path_to_sourse)\n",
    "    print(cmd)\n",
    "    _ = run_docker(cmd, docker_container_name)\n",
    "    return _"
   ]
  },
  {
   "cell_type": "code",
   "execution_count": 7,
   "metadata": {
    "collapsed": true
   },
   "outputs": [],
   "source": [
    "def get_rnd_string():\n",
    "    import string\n",
    "    import random\n",
    "    return ''.join(random.choice(string.ascii_uppercase + string.digits) for _ in range(10))"
   ]
  },
  {
   "cell_type": "code",
   "execution_count": 8,
   "metadata": {},
   "outputs": [
    {
     "name": "stdout",
     "output_type": "stream",
     "text": [
      "copy /mount/export/MICCAI_WMHS/Amst/GE3T/114/wmh.nii.gz  _to_  /mount/export/RESAMPLED_MICCAI_WMHS/Amst/GE3T/114/wmh.nii.gz\n",
      "copy /mount/export/MICCAI_WMHS/Amst/GE3T/114/pre/T1.nii.gz  _to_  /mount/export/RESAMPLED_MICCAI_WMHS/Amst/GE3T/114/pre/T1.nii.gz\n",
      "copy /mount/export/MICCAI_WMHS/Amst/GE3T/114/pre/FLAIR.nii.gz  _to_  /mount/export/RESAMPLED_MICCAI_WMHS/Amst/GE3T/114/pre/FLAIR.nii.gz\n",
      "copy /mount/export/MICCAI_WMHS/Amst/GE3T/100/wmh.nii.gz  _to_  /mount/export/RESAMPLED_MICCAI_WMHS/Amst/GE3T/100/wmh.nii.gz\n",
      "copy /mount/export/MICCAI_WMHS/Amst/GE3T/100/pre/T1.nii.gz  _to_  /mount/export/RESAMPLED_MICCAI_WMHS/Amst/GE3T/100/pre/T1.nii.gz\n",
      "copy /mount/export/MICCAI_WMHS/Amst/GE3T/100/pre/FLAIR.nii.gz  _to_  /mount/export/RESAMPLED_MICCAI_WMHS/Amst/GE3T/100/pre/FLAIR.nii.gz\n",
      "copy /mount/export/MICCAI_WMHS/Amst/GE3T/107/wmh.nii.gz  _to_  /mount/export/RESAMPLED_MICCAI_WMHS/Amst/GE3T/107/wmh.nii.gz\n",
      "copy /mount/export/MICCAI_WMHS/Amst/GE3T/107/pre/T1.nii.gz  _to_  /mount/export/RESAMPLED_MICCAI_WMHS/Amst/GE3T/107/pre/T1.nii.gz\n",
      "copy /mount/export/MICCAI_WMHS/Amst/GE3T/107/pre/FLAIR.nii.gz  _to_  /mount/export/RESAMPLED_MICCAI_WMHS/Amst/GE3T/107/pre/FLAIR.nii.gz\n",
      "copy /mount/export/MICCAI_WMHS/Amst/GE3T/102/wmh.nii.gz  _to_  /mount/export/RESAMPLED_MICCAI_WMHS/Amst/GE3T/102/wmh.nii.gz\n",
      "copy /mount/export/MICCAI_WMHS/Amst/GE3T/102/pre/T1.nii.gz  _to_  /mount/export/RESAMPLED_MICCAI_WMHS/Amst/GE3T/102/pre/T1.nii.gz\n",
      "copy /mount/export/MICCAI_WMHS/Amst/GE3T/102/pre/FLAIR.nii.gz  _to_  /mount/export/RESAMPLED_MICCAI_WMHS/Amst/GE3T/102/pre/FLAIR.nii.gz\n",
      "copy /mount/export/MICCAI_WMHS/Amst/GE3T/101/wmh.nii.gz  _to_  /mount/export/RESAMPLED_MICCAI_WMHS/Amst/GE3T/101/wmh.nii.gz\n",
      "copy /mount/export/MICCAI_WMHS/Amst/GE3T/101/pre/T1.nii.gz  _to_  /mount/export/RESAMPLED_MICCAI_WMHS/Amst/GE3T/101/pre/T1.nii.gz\n",
      "copy /mount/export/MICCAI_WMHS/Amst/GE3T/101/pre/FLAIR.nii.gz  _to_  /mount/export/RESAMPLED_MICCAI_WMHS/Amst/GE3T/101/pre/FLAIR.nii.gz\n",
      "copy /mount/export/MICCAI_WMHS/Amst/GE3T/112/wmh.nii.gz  _to_  /mount/export/RESAMPLED_MICCAI_WMHS/Amst/GE3T/112/wmh.nii.gz\n",
      "copy /mount/export/MICCAI_WMHS/Amst/GE3T/112/pre/T1.nii.gz  _to_  /mount/export/RESAMPLED_MICCAI_WMHS/Amst/GE3T/112/pre/T1.nii.gz\n",
      "copy /mount/export/MICCAI_WMHS/Amst/GE3T/112/pre/FLAIR.nii.gz  _to_  /mount/export/RESAMPLED_MICCAI_WMHS/Amst/GE3T/112/pre/FLAIR.nii.gz\n",
      "copy /mount/export/MICCAI_WMHS/Amst/GE3T/113/wmh.nii.gz  _to_  /mount/export/RESAMPLED_MICCAI_WMHS/Amst/GE3T/113/wmh.nii.gz\n",
      "copy /mount/export/MICCAI_WMHS/Amst/GE3T/113/pre/T1.nii.gz  _to_  /mount/export/RESAMPLED_MICCAI_WMHS/Amst/GE3T/113/pre/T1.nii.gz\n",
      "copy /mount/export/MICCAI_WMHS/Amst/GE3T/113/pre/FLAIR.nii.gz  _to_  /mount/export/RESAMPLED_MICCAI_WMHS/Amst/GE3T/113/pre/FLAIR.nii.gz\n",
      "copy /mount/export/MICCAI_WMHS/Amst/GE3T/108/wmh.nii.gz  _to_  /mount/export/RESAMPLED_MICCAI_WMHS/Amst/GE3T/108/wmh.nii.gz\n",
      "copy /mount/export/MICCAI_WMHS/Amst/GE3T/108/pre/T1.nii.gz  _to_  /mount/export/RESAMPLED_MICCAI_WMHS/Amst/GE3T/108/pre/T1.nii.gz\n",
      "copy /mount/export/MICCAI_WMHS/Amst/GE3T/108/pre/FLAIR.nii.gz  _to_  /mount/export/RESAMPLED_MICCAI_WMHS/Amst/GE3T/108/pre/FLAIR.nii.gz\n",
      "copy /mount/export/MICCAI_WMHS/Amst/GE3T/116/wmh.nii.gz  _to_  /mount/export/RESAMPLED_MICCAI_WMHS/Amst/GE3T/116/wmh.nii.gz\n",
      "copy /mount/export/MICCAI_WMHS/Amst/GE3T/116/pre/T1.nii.gz  _to_  /mount/export/RESAMPLED_MICCAI_WMHS/Amst/GE3T/116/pre/T1.nii.gz\n",
      "copy /mount/export/MICCAI_WMHS/Amst/GE3T/116/pre/FLAIR.nii.gz  _to_  /mount/export/RESAMPLED_MICCAI_WMHS/Amst/GE3T/116/pre/FLAIR.nii.gz\n",
      "copy /mount/export/MICCAI_WMHS/Amst/GE3T/126/wmh.nii.gz  _to_  /mount/export/RESAMPLED_MICCAI_WMHS/Amst/GE3T/126/wmh.nii.gz\n",
      "copy /mount/export/MICCAI_WMHS/Amst/GE3T/126/pre/T1.nii.gz  _to_  /mount/export/RESAMPLED_MICCAI_WMHS/Amst/GE3T/126/pre/T1.nii.gz\n",
      "copy /mount/export/MICCAI_WMHS/Amst/GE3T/126/pre/FLAIR.nii.gz  _to_  /mount/export/RESAMPLED_MICCAI_WMHS/Amst/GE3T/126/pre/FLAIR.nii.gz\n",
      "copy /mount/export/MICCAI_WMHS/Amst/GE3T/109/wmh.nii.gz  _to_  /mount/export/RESAMPLED_MICCAI_WMHS/Amst/GE3T/109/wmh.nii.gz\n",
      "copy /mount/export/MICCAI_WMHS/Amst/GE3T/109/pre/T1.nii.gz  _to_  /mount/export/RESAMPLED_MICCAI_WMHS/Amst/GE3T/109/pre/T1.nii.gz\n",
      "copy /mount/export/MICCAI_WMHS/Amst/GE3T/109/pre/FLAIR.nii.gz  _to_  /mount/export/RESAMPLED_MICCAI_WMHS/Amst/GE3T/109/pre/FLAIR.nii.gz\n",
      "copy /mount/export/MICCAI_WMHS/Amst/GE3T/106/wmh.nii.gz  _to_  /mount/export/RESAMPLED_MICCAI_WMHS/Amst/GE3T/106/wmh.nii.gz\n",
      "copy /mount/export/MICCAI_WMHS/Amst/GE3T/106/pre/T1.nii.gz  _to_  /mount/export/RESAMPLED_MICCAI_WMHS/Amst/GE3T/106/pre/T1.nii.gz\n",
      "copy /mount/export/MICCAI_WMHS/Amst/GE3T/106/pre/FLAIR.nii.gz  _to_  /mount/export/RESAMPLED_MICCAI_WMHS/Amst/GE3T/106/pre/FLAIR.nii.gz\n",
      "copy /mount/export/MICCAI_WMHS/Amst/GE3T/104/wmh.nii.gz  _to_  /mount/export/RESAMPLED_MICCAI_WMHS/Amst/GE3T/104/wmh.nii.gz\n",
      "copy /mount/export/MICCAI_WMHS/Amst/GE3T/104/pre/T1.nii.gz  _to_  /mount/export/RESAMPLED_MICCAI_WMHS/Amst/GE3T/104/pre/T1.nii.gz\n",
      "copy /mount/export/MICCAI_WMHS/Amst/GE3T/104/pre/FLAIR.nii.gz  _to_  /mount/export/RESAMPLED_MICCAI_WMHS/Amst/GE3T/104/pre/FLAIR.nii.gz\n",
      "copy /mount/export/MICCAI_WMHS/Amst/GE3T/110/wmh.nii.gz  _to_  /mount/export/RESAMPLED_MICCAI_WMHS/Amst/GE3T/110/wmh.nii.gz\n",
      "copy /mount/export/MICCAI_WMHS/Amst/GE3T/110/pre/T1.nii.gz  _to_  /mount/export/RESAMPLED_MICCAI_WMHS/Amst/GE3T/110/pre/T1.nii.gz\n",
      "copy /mount/export/MICCAI_WMHS/Amst/GE3T/110/pre/FLAIR.nii.gz  _to_  /mount/export/RESAMPLED_MICCAI_WMHS/Amst/GE3T/110/pre/FLAIR.nii.gz\n",
      "copy /mount/export/MICCAI_WMHS/Amst/GE3T/137/wmh.nii.gz  _to_  /mount/export/RESAMPLED_MICCAI_WMHS/Amst/GE3T/137/wmh.nii.gz\n",
      "copy /mount/export/MICCAI_WMHS/Amst/GE3T/137/pre/T1.nii.gz  _to_  /mount/export/RESAMPLED_MICCAI_WMHS/Amst/GE3T/137/pre/T1.nii.gz\n",
      "copy /mount/export/MICCAI_WMHS/Amst/GE3T/137/pre/FLAIR.nii.gz  _to_  /mount/export/RESAMPLED_MICCAI_WMHS/Amst/GE3T/137/pre/FLAIR.nii.gz\n",
      "copy /mount/export/MICCAI_WMHS/Amst/GE3T/144/wmh.nii.gz  _to_  /mount/export/RESAMPLED_MICCAI_WMHS/Amst/GE3T/144/wmh.nii.gz\n",
      "copy /mount/export/MICCAI_WMHS/Amst/GE3T/144/pre/T1.nii.gz  _to_  /mount/export/RESAMPLED_MICCAI_WMHS/Amst/GE3T/144/pre/T1.nii.gz\n",
      "copy /mount/export/MICCAI_WMHS/Amst/GE3T/144/pre/FLAIR.nii.gz  _to_  /mount/export/RESAMPLED_MICCAI_WMHS/Amst/GE3T/144/pre/FLAIR.nii.gz\n",
      "copy /mount/export/MICCAI_WMHS/Amst/GE3T/103/wmh.nii.gz  _to_  /mount/export/RESAMPLED_MICCAI_WMHS/Amst/GE3T/103/wmh.nii.gz\n",
      "copy /mount/export/MICCAI_WMHS/Amst/GE3T/103/pre/T1.nii.gz  _to_  /mount/export/RESAMPLED_MICCAI_WMHS/Amst/GE3T/103/pre/T1.nii.gz\n",
      "copy /mount/export/MICCAI_WMHS/Amst/GE3T/103/pre/FLAIR.nii.gz  _to_  /mount/export/RESAMPLED_MICCAI_WMHS/Amst/GE3T/103/pre/FLAIR.nii.gz\n",
      "copy /mount/export/MICCAI_WMHS/Amst/GE3T/115/wmh.nii.gz  _to_  /mount/export/RESAMPLED_MICCAI_WMHS/Amst/GE3T/115/wmh.nii.gz\n",
      "copy /mount/export/MICCAI_WMHS/Amst/GE3T/115/pre/T1.nii.gz  _to_  /mount/export/RESAMPLED_MICCAI_WMHS/Amst/GE3T/115/pre/T1.nii.gz\n",
      "copy /mount/export/MICCAI_WMHS/Amst/GE3T/115/pre/FLAIR.nii.gz  _to_  /mount/export/RESAMPLED_MICCAI_WMHS/Amst/GE3T/115/pre/FLAIR.nii.gz\n",
      "copy /mount/export/MICCAI_WMHS/Amst/GE3T/132/wmh.nii.gz  _to_  /mount/export/RESAMPLED_MICCAI_WMHS/Amst/GE3T/132/wmh.nii.gz\n",
      "copy /mount/export/MICCAI_WMHS/Amst/GE3T/132/pre/T1.nii.gz  _to_  /mount/export/RESAMPLED_MICCAI_WMHS/Amst/GE3T/132/pre/T1.nii.gz\n",
      "copy /mount/export/MICCAI_WMHS/Amst/GE3T/132/pre/FLAIR.nii.gz  _to_  /mount/export/RESAMPLED_MICCAI_WMHS/Amst/GE3T/132/pre/FLAIR.nii.gz\n",
      "copy /mount/export/MICCAI_WMHS/Amst/GE3T/105/wmh.nii.gz  _to_  /mount/export/RESAMPLED_MICCAI_WMHS/Amst/GE3T/105/wmh.nii.gz\n",
      "copy /mount/export/MICCAI_WMHS/Amst/GE3T/105/pre/T1.nii.gz  _to_  /mount/export/RESAMPLED_MICCAI_WMHS/Amst/GE3T/105/pre/T1.nii.gz\n",
      "copy /mount/export/MICCAI_WMHS/Amst/GE3T/105/pre/FLAIR.nii.gz  _to_  /mount/export/RESAMPLED_MICCAI_WMHS/Amst/GE3T/105/pre/FLAIR.nii.gz\n",
      "copy /mount/export/MICCAI_WMHS/Utr/Utrecht/41/wmh.nii.gz  _to_  /mount/export/RESAMPLED_MICCAI_WMHS/Utr/Utrecht/41/wmh.nii.gz\n",
      "copy /mount/export/MICCAI_WMHS/Utr/Utrecht/41/pre/T1.nii.gz  _to_  /mount/export/RESAMPLED_MICCAI_WMHS/Utr/Utrecht/41/pre/T1.nii.gz\n",
      "copy /mount/export/MICCAI_WMHS/Utr/Utrecht/41/pre/FLAIR.nii.gz  _to_  /mount/export/RESAMPLED_MICCAI_WMHS/Utr/Utrecht/41/pre/FLAIR.nii.gz\n",
      "copy /mount/export/MICCAI_WMHS/Utr/Utrecht/2/wmh.nii.gz  _to_  /mount/export/RESAMPLED_MICCAI_WMHS/Utr/Utrecht/2/wmh.nii.gz\n",
      "copy /mount/export/MICCAI_WMHS/Utr/Utrecht/2/pre/T1.nii.gz  _to_  /mount/export/RESAMPLED_MICCAI_WMHS/Utr/Utrecht/2/pre/T1.nii.gz\n",
      "copy /mount/export/MICCAI_WMHS/Utr/Utrecht/2/pre/FLAIR.nii.gz  _to_  /mount/export/RESAMPLED_MICCAI_WMHS/Utr/Utrecht/2/pre/FLAIR.nii.gz\n",
      "copy /mount/export/MICCAI_WMHS/Utr/Utrecht/49/wmh.nii.gz  _to_  /mount/export/RESAMPLED_MICCAI_WMHS/Utr/Utrecht/49/wmh.nii.gz\n",
      "copy /mount/export/MICCAI_WMHS/Utr/Utrecht/49/pre/T1.nii.gz  _to_  /mount/export/RESAMPLED_MICCAI_WMHS/Utr/Utrecht/49/pre/T1.nii.gz\n",
      "copy /mount/export/MICCAI_WMHS/Utr/Utrecht/49/pre/FLAIR.nii.gz  _to_  /mount/export/RESAMPLED_MICCAI_WMHS/Utr/Utrecht/49/pre/FLAIR.nii.gz\n",
      "copy /mount/export/MICCAI_WMHS/Utr/Utrecht/19/wmh.nii.gz  _to_  /mount/export/RESAMPLED_MICCAI_WMHS/Utr/Utrecht/19/wmh.nii.gz\n",
      "copy /mount/export/MICCAI_WMHS/Utr/Utrecht/19/pre/T1.nii.gz  _to_  /mount/export/RESAMPLED_MICCAI_WMHS/Utr/Utrecht/19/pre/T1.nii.gz\n",
      "copy /mount/export/MICCAI_WMHS/Utr/Utrecht/19/pre/FLAIR.nii.gz  _to_  /mount/export/RESAMPLED_MICCAI_WMHS/Utr/Utrecht/19/pre/FLAIR.nii.gz\n",
      "copy /mount/export/MICCAI_WMHS/Utr/Utrecht/39/wmh.nii.gz  _to_  /mount/export/RESAMPLED_MICCAI_WMHS/Utr/Utrecht/39/wmh.nii.gz\n",
      "copy /mount/export/MICCAI_WMHS/Utr/Utrecht/39/pre/T1.nii.gz  _to_  /mount/export/RESAMPLED_MICCAI_WMHS/Utr/Utrecht/39/pre/T1.nii.gz\n",
      "copy /mount/export/MICCAI_WMHS/Utr/Utrecht/39/pre/FLAIR.nii.gz  _to_  /mount/export/RESAMPLED_MICCAI_WMHS/Utr/Utrecht/39/pre/FLAIR.nii.gz\n",
      "copy /mount/export/MICCAI_WMHS/Utr/Utrecht/31/wmh.nii.gz  _to_  /mount/export/RESAMPLED_MICCAI_WMHS/Utr/Utrecht/31/wmh.nii.gz\n",
      "copy /mount/export/MICCAI_WMHS/Utr/Utrecht/31/pre/T1.nii.gz  _to_  /mount/export/RESAMPLED_MICCAI_WMHS/Utr/Utrecht/31/pre/T1.nii.gz\n",
      "copy /mount/export/MICCAI_WMHS/Utr/Utrecht/31/pre/FLAIR.nii.gz  _to_  /mount/export/RESAMPLED_MICCAI_WMHS/Utr/Utrecht/31/pre/FLAIR.nii.gz\n",
      "copy /mount/export/MICCAI_WMHS/Utr/Utrecht/35/wmh.nii.gz  _to_  /mount/export/RESAMPLED_MICCAI_WMHS/Utr/Utrecht/35/wmh.nii.gz\n",
      "copy /mount/export/MICCAI_WMHS/Utr/Utrecht/35/pre/T1.nii.gz  _to_  /mount/export/RESAMPLED_MICCAI_WMHS/Utr/Utrecht/35/pre/T1.nii.gz\n",
      "copy /mount/export/MICCAI_WMHS/Utr/Utrecht/35/pre/FLAIR.nii.gz  _to_  /mount/export/RESAMPLED_MICCAI_WMHS/Utr/Utrecht/35/pre/FLAIR.nii.gz\n",
      "copy /mount/export/MICCAI_WMHS/Utr/Utrecht/21/wmh.nii.gz  _to_  /mount/export/RESAMPLED_MICCAI_WMHS/Utr/Utrecht/21/wmh.nii.gz\n"
     ]
    },
    {
     "name": "stdout",
     "output_type": "stream",
     "text": [
      "copy /mount/export/MICCAI_WMHS/Utr/Utrecht/21/pre/T1.nii.gz  _to_  /mount/export/RESAMPLED_MICCAI_WMHS/Utr/Utrecht/21/pre/T1.nii.gz\n",
      "copy /mount/export/MICCAI_WMHS/Utr/Utrecht/21/pre/FLAIR.nii.gz  _to_  /mount/export/RESAMPLED_MICCAI_WMHS/Utr/Utrecht/21/pre/FLAIR.nii.gz\n",
      "copy /mount/export/MICCAI_WMHS/Utr/Utrecht/6/wmh.nii.gz  _to_  /mount/export/RESAMPLED_MICCAI_WMHS/Utr/Utrecht/6/wmh.nii.gz\n",
      "copy /mount/export/MICCAI_WMHS/Utr/Utrecht/6/pre/T1.nii.gz  _to_  /mount/export/RESAMPLED_MICCAI_WMHS/Utr/Utrecht/6/pre/T1.nii.gz\n",
      "copy /mount/export/MICCAI_WMHS/Utr/Utrecht/6/pre/FLAIR.nii.gz  _to_  /mount/export/RESAMPLED_MICCAI_WMHS/Utr/Utrecht/6/pre/FLAIR.nii.gz\n",
      "copy /mount/export/MICCAI_WMHS/Utr/Utrecht/29/wmh.nii.gz  _to_  /mount/export/RESAMPLED_MICCAI_WMHS/Utr/Utrecht/29/wmh.nii.gz\n",
      "copy /mount/export/MICCAI_WMHS/Utr/Utrecht/29/pre/T1.nii.gz  _to_  /mount/export/RESAMPLED_MICCAI_WMHS/Utr/Utrecht/29/pre/T1.nii.gz\n",
      "copy /mount/export/MICCAI_WMHS/Utr/Utrecht/29/pre/FLAIR.nii.gz  _to_  /mount/export/RESAMPLED_MICCAI_WMHS/Utr/Utrecht/29/pre/FLAIR.nii.gz\n",
      "copy /mount/export/MICCAI_WMHS/Utr/Utrecht/25/wmh.nii.gz  _to_  /mount/export/RESAMPLED_MICCAI_WMHS/Utr/Utrecht/25/wmh.nii.gz\n",
      "copy /mount/export/MICCAI_WMHS/Utr/Utrecht/25/pre/T1.nii.gz  _to_  /mount/export/RESAMPLED_MICCAI_WMHS/Utr/Utrecht/25/pre/T1.nii.gz\n",
      "copy /mount/export/MICCAI_WMHS/Utr/Utrecht/25/pre/FLAIR.nii.gz  _to_  /mount/export/RESAMPLED_MICCAI_WMHS/Utr/Utrecht/25/pre/FLAIR.nii.gz\n",
      "copy /mount/export/MICCAI_WMHS/Utr/Utrecht/0/wmh.nii.gz  _to_  /mount/export/RESAMPLED_MICCAI_WMHS/Utr/Utrecht/0/wmh.nii.gz\n",
      "copy /mount/export/MICCAI_WMHS/Utr/Utrecht/0/pre/T1.nii.gz  _to_  /mount/export/RESAMPLED_MICCAI_WMHS/Utr/Utrecht/0/pre/T1.nii.gz\n",
      "copy /mount/export/MICCAI_WMHS/Utr/Utrecht/0/pre/FLAIR.nii.gz  _to_  /mount/export/RESAMPLED_MICCAI_WMHS/Utr/Utrecht/0/pre/FLAIR.nii.gz\n",
      "copy /mount/export/MICCAI_WMHS/Utr/Utrecht/17/wmh.nii.gz  _to_  /mount/export/RESAMPLED_MICCAI_WMHS/Utr/Utrecht/17/wmh.nii.gz\n",
      "copy /mount/export/MICCAI_WMHS/Utr/Utrecht/17/pre/T1.nii.gz  _to_  /mount/export/RESAMPLED_MICCAI_WMHS/Utr/Utrecht/17/pre/T1.nii.gz\n",
      "copy /mount/export/MICCAI_WMHS/Utr/Utrecht/17/pre/FLAIR.nii.gz  _to_  /mount/export/RESAMPLED_MICCAI_WMHS/Utr/Utrecht/17/pre/FLAIR.nii.gz\n",
      "copy /mount/export/MICCAI_WMHS/Utr/Utrecht/11/wmh.nii.gz  _to_  /mount/export/RESAMPLED_MICCAI_WMHS/Utr/Utrecht/11/wmh.nii.gz\n",
      "copy /mount/export/MICCAI_WMHS/Utr/Utrecht/11/pre/T1.nii.gz  _to_  /mount/export/RESAMPLED_MICCAI_WMHS/Utr/Utrecht/11/pre/T1.nii.gz\n",
      "copy /mount/export/MICCAI_WMHS/Utr/Utrecht/11/pre/FLAIR.nii.gz  _to_  /mount/export/RESAMPLED_MICCAI_WMHS/Utr/Utrecht/11/pre/FLAIR.nii.gz\n",
      "copy /mount/export/MICCAI_WMHS/Utr/Utrecht/27/wmh.nii.gz  _to_  /mount/export/RESAMPLED_MICCAI_WMHS/Utr/Utrecht/27/wmh.nii.gz\n",
      "copy /mount/export/MICCAI_WMHS/Utr/Utrecht/27/pre/T1.nii.gz  _to_  /mount/export/RESAMPLED_MICCAI_WMHS/Utr/Utrecht/27/pre/T1.nii.gz\n",
      "copy /mount/export/MICCAI_WMHS/Utr/Utrecht/27/pre/FLAIR.nii.gz  _to_  /mount/export/RESAMPLED_MICCAI_WMHS/Utr/Utrecht/27/pre/FLAIR.nii.gz\n",
      "copy /mount/export/MICCAI_WMHS/Utr/Utrecht/23/wmh.nii.gz  _to_  /mount/export/RESAMPLED_MICCAI_WMHS/Utr/Utrecht/23/wmh.nii.gz\n",
      "copy /mount/export/MICCAI_WMHS/Utr/Utrecht/23/pre/T1.nii.gz  _to_  /mount/export/RESAMPLED_MICCAI_WMHS/Utr/Utrecht/23/pre/T1.nii.gz\n",
      "copy /mount/export/MICCAI_WMHS/Utr/Utrecht/23/pre/FLAIR.nii.gz  _to_  /mount/export/RESAMPLED_MICCAI_WMHS/Utr/Utrecht/23/pre/FLAIR.nii.gz\n",
      "copy /mount/export/MICCAI_WMHS/Utr/Utrecht/4/wmh.nii.gz  _to_  /mount/export/RESAMPLED_MICCAI_WMHS/Utr/Utrecht/4/wmh.nii.gz\n",
      "copy /mount/export/MICCAI_WMHS/Utr/Utrecht/4/pre/T1.nii.gz  _to_  /mount/export/RESAMPLED_MICCAI_WMHS/Utr/Utrecht/4/pre/T1.nii.gz\n",
      "copy /mount/export/MICCAI_WMHS/Utr/Utrecht/4/pre/FLAIR.nii.gz  _to_  /mount/export/RESAMPLED_MICCAI_WMHS/Utr/Utrecht/4/pre/FLAIR.nii.gz\n",
      "copy /mount/export/MICCAI_WMHS/Utr/Utrecht/37/wmh.nii.gz  _to_  /mount/export/RESAMPLED_MICCAI_WMHS/Utr/Utrecht/37/wmh.nii.gz\n",
      "copy /mount/export/MICCAI_WMHS/Utr/Utrecht/37/pre/T1.nii.gz  _to_  /mount/export/RESAMPLED_MICCAI_WMHS/Utr/Utrecht/37/pre/T1.nii.gz\n",
      "copy /mount/export/MICCAI_WMHS/Utr/Utrecht/37/pre/FLAIR.nii.gz  _to_  /mount/export/RESAMPLED_MICCAI_WMHS/Utr/Utrecht/37/pre/FLAIR.nii.gz\n",
      "copy /mount/export/MICCAI_WMHS/Utr/Utrecht/8/wmh.nii.gz  _to_  /mount/export/RESAMPLED_MICCAI_WMHS/Utr/Utrecht/8/wmh.nii.gz\n",
      "copy /mount/export/MICCAI_WMHS/Utr/Utrecht/8/pre/T1.nii.gz  _to_  /mount/export/RESAMPLED_MICCAI_WMHS/Utr/Utrecht/8/pre/T1.nii.gz\n",
      "copy /mount/export/MICCAI_WMHS/Utr/Utrecht/8/pre/FLAIR.nii.gz  _to_  /mount/export/RESAMPLED_MICCAI_WMHS/Utr/Utrecht/8/pre/FLAIR.nii.gz\n",
      "copy /mount/export/MICCAI_WMHS/Utr/Utrecht/33/wmh.nii.gz  _to_  /mount/export/RESAMPLED_MICCAI_WMHS/Utr/Utrecht/33/wmh.nii.gz\n",
      "copy /mount/export/MICCAI_WMHS/Utr/Utrecht/33/pre/T1.nii.gz  _to_  /mount/export/RESAMPLED_MICCAI_WMHS/Utr/Utrecht/33/pre/T1.nii.gz\n",
      "copy /mount/export/MICCAI_WMHS/Utr/Utrecht/33/pre/FLAIR.nii.gz  _to_  /mount/export/RESAMPLED_MICCAI_WMHS/Utr/Utrecht/33/pre/FLAIR.nii.gz\n",
      "copy /mount/export/MICCAI_WMHS/Sing/Singapore/61/wmh.nii.gz  _to_  /mount/export/RESAMPLED_MICCAI_WMHS/Sing/Singapore/61/wmh.nii.gz\n",
      "copy /mount/export/MICCAI_WMHS/Sing/Singapore/61/pre/T1.nii.gz  _to_  /mount/export/RESAMPLED_MICCAI_WMHS/Sing/Singapore/61/pre/T1.nii.gz\n",
      "copy /mount/export/MICCAI_WMHS/Sing/Singapore/61/pre/FLAIR.nii.gz  _to_  /mount/export/RESAMPLED_MICCAI_WMHS/Sing/Singapore/61/pre/FLAIR.nii.gz\n",
      "copy /mount/export/MICCAI_WMHS/Sing/Singapore/53/wmh.nii.gz  _to_  /mount/export/RESAMPLED_MICCAI_WMHS/Sing/Singapore/53/wmh.nii.gz\n",
      "copy /mount/export/MICCAI_WMHS/Sing/Singapore/53/pre/T1.nii.gz  _to_  /mount/export/RESAMPLED_MICCAI_WMHS/Sing/Singapore/53/pre/T1.nii.gz\n",
      "copy /mount/export/MICCAI_WMHS/Sing/Singapore/53/pre/FLAIR.nii.gz  _to_  /mount/export/RESAMPLED_MICCAI_WMHS/Sing/Singapore/53/pre/FLAIR.nii.gz\n",
      "copy /mount/export/MICCAI_WMHS/Sing/Singapore/60/wmh.nii.gz  _to_  /mount/export/RESAMPLED_MICCAI_WMHS/Sing/Singapore/60/wmh.nii.gz\n",
      "copy /mount/export/MICCAI_WMHS/Sing/Singapore/60/pre/T1.nii.gz  _to_  /mount/export/RESAMPLED_MICCAI_WMHS/Sing/Singapore/60/pre/T1.nii.gz\n",
      "copy /mount/export/MICCAI_WMHS/Sing/Singapore/60/pre/FLAIR.nii.gz  _to_  /mount/export/RESAMPLED_MICCAI_WMHS/Sing/Singapore/60/pre/FLAIR.nii.gz\n",
      "copy /mount/export/MICCAI_WMHS/Sing/Singapore/68/wmh.nii.gz  _to_  /mount/export/RESAMPLED_MICCAI_WMHS/Sing/Singapore/68/wmh.nii.gz\n",
      "copy /mount/export/MICCAI_WMHS/Sing/Singapore/68/pre/T1.nii.gz  _to_  /mount/export/RESAMPLED_MICCAI_WMHS/Sing/Singapore/68/pre/T1.nii.gz\n",
      "copy /mount/export/MICCAI_WMHS/Sing/Singapore/68/pre/FLAIR.nii.gz  _to_  /mount/export/RESAMPLED_MICCAI_WMHS/Sing/Singapore/68/pre/FLAIR.nii.gz\n",
      "copy /mount/export/MICCAI_WMHS/Sing/Singapore/54/wmh.nii.gz  _to_  /mount/export/RESAMPLED_MICCAI_WMHS/Sing/Singapore/54/wmh.nii.gz\n",
      "copy /mount/export/MICCAI_WMHS/Sing/Singapore/54/pre/T1.nii.gz  _to_  /mount/export/RESAMPLED_MICCAI_WMHS/Sing/Singapore/54/pre/T1.nii.gz\n",
      "copy /mount/export/MICCAI_WMHS/Sing/Singapore/54/pre/FLAIR.nii.gz  _to_  /mount/export/RESAMPLED_MICCAI_WMHS/Sing/Singapore/54/pre/FLAIR.nii.gz\n",
      "copy /mount/export/MICCAI_WMHS/Sing/Singapore/59/wmh.nii.gz  _to_  /mount/export/RESAMPLED_MICCAI_WMHS/Sing/Singapore/59/wmh.nii.gz\n",
      "copy /mount/export/MICCAI_WMHS/Sing/Singapore/59/pre/T1.nii.gz  _to_  /mount/export/RESAMPLED_MICCAI_WMHS/Sing/Singapore/59/pre/T1.nii.gz\n",
      "copy /mount/export/MICCAI_WMHS/Sing/Singapore/59/pre/FLAIR.nii.gz  _to_  /mount/export/RESAMPLED_MICCAI_WMHS/Sing/Singapore/59/pre/FLAIR.nii.gz\n",
      "copy /mount/export/MICCAI_WMHS/Sing/Singapore/62/wmh.nii.gz  _to_  /mount/export/RESAMPLED_MICCAI_WMHS/Sing/Singapore/62/wmh.nii.gz\n",
      "copy /mount/export/MICCAI_WMHS/Sing/Singapore/62/pre/T1.nii.gz  _to_  /mount/export/RESAMPLED_MICCAI_WMHS/Sing/Singapore/62/pre/T1.nii.gz\n",
      "copy /mount/export/MICCAI_WMHS/Sing/Singapore/62/pre/FLAIR.nii.gz  _to_  /mount/export/RESAMPLED_MICCAI_WMHS/Sing/Singapore/62/pre/FLAIR.nii.gz\n",
      "copy /mount/export/MICCAI_WMHS/Sing/Singapore/65/wmh.nii.gz  _to_  /mount/export/RESAMPLED_MICCAI_WMHS/Sing/Singapore/65/wmh.nii.gz\n",
      "copy /mount/export/MICCAI_WMHS/Sing/Singapore/65/pre/T1.nii.gz  _to_  /mount/export/RESAMPLED_MICCAI_WMHS/Sing/Singapore/65/pre/T1.nii.gz\n",
      "copy /mount/export/MICCAI_WMHS/Sing/Singapore/65/pre/FLAIR.nii.gz  _to_  /mount/export/RESAMPLED_MICCAI_WMHS/Sing/Singapore/65/pre/FLAIR.nii.gz\n",
      "copy /mount/export/MICCAI_WMHS/Sing/Singapore/55/wmh.nii.gz  _to_  /mount/export/RESAMPLED_MICCAI_WMHS/Sing/Singapore/55/wmh.nii.gz\n",
      "copy /mount/export/MICCAI_WMHS/Sing/Singapore/55/pre/T1.nii.gz  _to_  /mount/export/RESAMPLED_MICCAI_WMHS/Sing/Singapore/55/pre/T1.nii.gz\n",
      "copy /mount/export/MICCAI_WMHS/Sing/Singapore/55/pre/FLAIR.nii.gz  _to_  /mount/export/RESAMPLED_MICCAI_WMHS/Sing/Singapore/55/pre/FLAIR.nii.gz\n",
      "copy /mount/export/MICCAI_WMHS/Sing/Singapore/63/wmh.nii.gz  _to_  /mount/export/RESAMPLED_MICCAI_WMHS/Sing/Singapore/63/wmh.nii.gz\n",
      "copy /mount/export/MICCAI_WMHS/Sing/Singapore/63/pre/T1.nii.gz  _to_  /mount/export/RESAMPLED_MICCAI_WMHS/Sing/Singapore/63/pre/T1.nii.gz\n",
      "copy /mount/export/MICCAI_WMHS/Sing/Singapore/63/pre/FLAIR.nii.gz  _to_  /mount/export/RESAMPLED_MICCAI_WMHS/Sing/Singapore/63/pre/FLAIR.nii.gz\n",
      "copy /mount/export/MICCAI_WMHS/Sing/Singapore/56/wmh.nii.gz  _to_  /mount/export/RESAMPLED_MICCAI_WMHS/Sing/Singapore/56/wmh.nii.gz\n",
      "copy /mount/export/MICCAI_WMHS/Sing/Singapore/56/pre/T1.nii.gz  _to_  /mount/export/RESAMPLED_MICCAI_WMHS/Sing/Singapore/56/pre/T1.nii.gz\n",
      "copy /mount/export/MICCAI_WMHS/Sing/Singapore/56/pre/FLAIR.nii.gz  _to_  /mount/export/RESAMPLED_MICCAI_WMHS/Sing/Singapore/56/pre/FLAIR.nii.gz\n",
      "copy /mount/export/MICCAI_WMHS/Sing/Singapore/66/wmh.nii.gz  _to_  /mount/export/RESAMPLED_MICCAI_WMHS/Sing/Singapore/66/wmh.nii.gz\n",
      "copy /mount/export/MICCAI_WMHS/Sing/Singapore/66/pre/T1.nii.gz  _to_  /mount/export/RESAMPLED_MICCAI_WMHS/Sing/Singapore/66/pre/T1.nii.gz\n",
      "copy /mount/export/MICCAI_WMHS/Sing/Singapore/66/pre/FLAIR.nii.gz  _to_  /mount/export/RESAMPLED_MICCAI_WMHS/Sing/Singapore/66/pre/FLAIR.nii.gz\n",
      "copy /mount/export/MICCAI_WMHS/Sing/Singapore/58/wmh.nii.gz  _to_  /mount/export/RESAMPLED_MICCAI_WMHS/Sing/Singapore/58/wmh.nii.gz\n",
      "copy /mount/export/MICCAI_WMHS/Sing/Singapore/58/pre/T1.nii.gz  _to_  /mount/export/RESAMPLED_MICCAI_WMHS/Sing/Singapore/58/pre/T1.nii.gz\n",
      "copy /mount/export/MICCAI_WMHS/Sing/Singapore/58/pre/FLAIR.nii.gz  _to_  /mount/export/RESAMPLED_MICCAI_WMHS/Sing/Singapore/58/pre/FLAIR.nii.gz\n"
     ]
    },
    {
     "name": "stdout",
     "output_type": "stream",
     "text": [
      "copy /mount/export/MICCAI_WMHS/Sing/Singapore/57/wmh.nii.gz  _to_  /mount/export/RESAMPLED_MICCAI_WMHS/Sing/Singapore/57/wmh.nii.gz\n",
      "copy /mount/export/MICCAI_WMHS/Sing/Singapore/57/pre/T1.nii.gz  _to_  /mount/export/RESAMPLED_MICCAI_WMHS/Sing/Singapore/57/pre/T1.nii.gz\n",
      "copy /mount/export/MICCAI_WMHS/Sing/Singapore/57/pre/FLAIR.nii.gz  _to_  /mount/export/RESAMPLED_MICCAI_WMHS/Sing/Singapore/57/pre/FLAIR.nii.gz\n",
      "copy /mount/export/MICCAI_WMHS/Sing/Singapore/69/wmh.nii.gz  _to_  /mount/export/RESAMPLED_MICCAI_WMHS/Sing/Singapore/69/wmh.nii.gz\n",
      "copy /mount/export/MICCAI_WMHS/Sing/Singapore/69/pre/T1.nii.gz  _to_  /mount/export/RESAMPLED_MICCAI_WMHS/Sing/Singapore/69/pre/T1.nii.gz\n",
      "copy /mount/export/MICCAI_WMHS/Sing/Singapore/69/pre/FLAIR.nii.gz  _to_  /mount/export/RESAMPLED_MICCAI_WMHS/Sing/Singapore/69/pre/FLAIR.nii.gz\n",
      "copy /mount/export/MICCAI_WMHS/Sing/Singapore/67/wmh.nii.gz  _to_  /mount/export/RESAMPLED_MICCAI_WMHS/Sing/Singapore/67/wmh.nii.gz\n",
      "copy /mount/export/MICCAI_WMHS/Sing/Singapore/67/pre/T1.nii.gz  _to_  /mount/export/RESAMPLED_MICCAI_WMHS/Sing/Singapore/67/pre/T1.nii.gz\n",
      "copy /mount/export/MICCAI_WMHS/Sing/Singapore/67/pre/FLAIR.nii.gz  _to_  /mount/export/RESAMPLED_MICCAI_WMHS/Sing/Singapore/67/pre/FLAIR.nii.gz\n",
      "copy /mount/export/MICCAI_WMHS/Sing/Singapore/51/wmh.nii.gz  _to_  /mount/export/RESAMPLED_MICCAI_WMHS/Sing/Singapore/51/wmh.nii.gz\n",
      "copy /mount/export/MICCAI_WMHS/Sing/Singapore/51/pre/T1.nii.gz  _to_  /mount/export/RESAMPLED_MICCAI_WMHS/Sing/Singapore/51/pre/T1.nii.gz\n",
      "copy /mount/export/MICCAI_WMHS/Sing/Singapore/51/pre/FLAIR.nii.gz  _to_  /mount/export/RESAMPLED_MICCAI_WMHS/Sing/Singapore/51/pre/FLAIR.nii.gz\n",
      "copy /mount/export/MICCAI_WMHS/Sing/Singapore/50/wmh.nii.gz  _to_  /mount/export/RESAMPLED_MICCAI_WMHS/Sing/Singapore/50/wmh.nii.gz\n",
      "copy /mount/export/MICCAI_WMHS/Sing/Singapore/50/pre/T1.nii.gz  _to_  /mount/export/RESAMPLED_MICCAI_WMHS/Sing/Singapore/50/pre/T1.nii.gz\n",
      "copy /mount/export/MICCAI_WMHS/Sing/Singapore/50/pre/FLAIR.nii.gz  _to_  /mount/export/RESAMPLED_MICCAI_WMHS/Sing/Singapore/50/pre/FLAIR.nii.gz\n",
      "copy /mount/export/MICCAI_WMHS/Sing/Singapore/52/wmh.nii.gz  _to_  /mount/export/RESAMPLED_MICCAI_WMHS/Sing/Singapore/52/wmh.nii.gz\n",
      "copy /mount/export/MICCAI_WMHS/Sing/Singapore/52/pre/T1.nii.gz  _to_  /mount/export/RESAMPLED_MICCAI_WMHS/Sing/Singapore/52/pre/T1.nii.gz\n",
      "copy /mount/export/MICCAI_WMHS/Sing/Singapore/52/pre/FLAIR.nii.gz  _to_  /mount/export/RESAMPLED_MICCAI_WMHS/Sing/Singapore/52/pre/FLAIR.nii.gz\n",
      "copy /mount/export/MICCAI_WMHS/Sing/Singapore/64/wmh.nii.gz  _to_  /mount/export/RESAMPLED_MICCAI_WMHS/Sing/Singapore/64/wmh.nii.gz\n",
      "copy /mount/export/MICCAI_WMHS/Sing/Singapore/64/pre/T1.nii.gz  _to_  /mount/export/RESAMPLED_MICCAI_WMHS/Sing/Singapore/64/pre/T1.nii.gz\n",
      "copy /mount/export/MICCAI_WMHS/Sing/Singapore/64/pre/FLAIR.nii.gz  _to_  /mount/export/RESAMPLED_MICCAI_WMHS/Sing/Singapore/64/pre/FLAIR.nii.gz\n"
     ]
    }
   ],
   "source": [
    "#\n",
    "# #\n",
    "# # # just copy all tree to new directory \n",
    "# #\n",
    "#\n",
    "\n",
    "path_to_copy = '/mount/export/RESAMPLED_MICCAI_WMHS/' # /nmt/x05-ssd/RESAMPLED_MICCAI_WMHS/\n",
    "path_to_orig = '/mount/export/MICCAI_WMHS/'\n",
    "\n",
    "for path, dirs, files in os.walk(path_to_orig):\n",
    "    for f in files:\n",
    "        if ('wmh.nii.gz' == f or \n",
    "            ('pre' in path and ('T1.nii.gz' == f or 'FLAIR.nii.gz' == f))):\n",
    "            val = 3 if 'wmh.nii.gz' == f else 4\n",
    "            path_to_new_files = os.path.join(path_to_copy, '/'.join(path.split('/')[-val:]))\n",
    "            if not os.path.exists(path_to_new_files):\n",
    "                os.makedirs(path_to_new_files, exist_ok=True)\n",
    "            print ('copy', path+'/'+f, ' _to_ ', path_to_new_files + '/' + f)\n",
    "            shutil.copy(os.path.join(path, f), os.path.join(path_to_new_files, f))"
   ]
  },
  {
   "cell_type": "code",
   "execution_count": 9,
   "metadata": {
    "scrolled": true
   },
   "outputs": [
    {
     "name": "stdout",
     "output_type": "stream",
     "text": [
      "/mount/export/RESAMPLED_MICCAI_WMHS/Amst/GE3T/114\n",
      "docker run --rm     --name 7XPXS73DJP     -v /mount/export/RESAMPLED_MICCAI_WMHS/Amst/GE3T/114:/input     brain_pipeline/frsrf_minc_fsl     bash -c \". /etc/fsl/5.0/fsl.sh     && flirt -in /input/pre/FLAIR.nii.gz -ref /input/pre/FLAIR.nii.gz -out /input/pre/reg_FLAIR.nii.gz -omat /input/pre/some_transform.mat -applyisoxfm 1     && flirt -in /input/wmh.nii.gz -ref /input/pre/reg_FLAIR.nii.gz -out /input/reg_wmh.nii.gz -init /input/pre/some_transform.mat -applyisoxfm 1     && flirt -in /input/pre/T1.nii.gz -ref /input/pre/reg_FLAIR.nii.gz -out /input/pre/reg_T1.nii.gz -init /input/pre/some_transform.mat -applyisoxfm 1     \" \n",
      "/mount/export/RESAMPLED_MICCAI_WMHS/Amst/GE3T/100\n",
      "docker run --rm     --name R0F0JVDKL0     -v /mount/export/RESAMPLED_MICCAI_WMHS/Amst/GE3T/100:/input     brain_pipeline/frsrf_minc_fsl     bash -c \". /etc/fsl/5.0/fsl.sh     && flirt -in /input/pre/FLAIR.nii.gz -ref /input/pre/FLAIR.nii.gz -out /input/pre/reg_FLAIR.nii.gz -omat /input/pre/some_transform.mat -applyisoxfm 1     && flirt -in /input/wmh.nii.gz -ref /input/pre/reg_FLAIR.nii.gz -out /input/reg_wmh.nii.gz -init /input/pre/some_transform.mat -applyisoxfm 1     && flirt -in /input/pre/T1.nii.gz -ref /input/pre/reg_FLAIR.nii.gz -out /input/pre/reg_T1.nii.gz -init /input/pre/some_transform.mat -applyisoxfm 1     \" \n",
      "/mount/export/RESAMPLED_MICCAI_WMHS/Amst/GE3T/107\n",
      "docker run --rm     --name G6FABS8AB6     -v /mount/export/RESAMPLED_MICCAI_WMHS/Amst/GE3T/107:/input     brain_pipeline/frsrf_minc_fsl     bash -c \". /etc/fsl/5.0/fsl.sh     && flirt -in /input/pre/FLAIR.nii.gz -ref /input/pre/FLAIR.nii.gz -out /input/pre/reg_FLAIR.nii.gz -omat /input/pre/some_transform.mat -applyisoxfm 1     && flirt -in /input/wmh.nii.gz -ref /input/pre/reg_FLAIR.nii.gz -out /input/reg_wmh.nii.gz -init /input/pre/some_transform.mat -applyisoxfm 1     && flirt -in /input/pre/T1.nii.gz -ref /input/pre/reg_FLAIR.nii.gz -out /input/pre/reg_T1.nii.gz -init /input/pre/some_transform.mat -applyisoxfm 1     \" \n",
      "/mount/export/RESAMPLED_MICCAI_WMHS/Amst/GE3T/102\n",
      "docker run --rm     --name 33LWPH2VAC     -v /mount/export/RESAMPLED_MICCAI_WMHS/Amst/GE3T/102:/input     brain_pipeline/frsrf_minc_fsl     bash -c \". /etc/fsl/5.0/fsl.sh     && flirt -in /input/pre/FLAIR.nii.gz -ref /input/pre/FLAIR.nii.gz -out /input/pre/reg_FLAIR.nii.gz -omat /input/pre/some_transform.mat -applyisoxfm 1     && flirt -in /input/wmh.nii.gz -ref /input/pre/reg_FLAIR.nii.gz -out /input/reg_wmh.nii.gz -init /input/pre/some_transform.mat -applyisoxfm 1     && flirt -in /input/pre/T1.nii.gz -ref /input/pre/reg_FLAIR.nii.gz -out /input/pre/reg_T1.nii.gz -init /input/pre/some_transform.mat -applyisoxfm 1     \" \n",
      "/mount/export/RESAMPLED_MICCAI_WMHS/Amst/GE3T/101\n",
      "docker run --rm     --name KE1HKFVUO4     -v /mount/export/RESAMPLED_MICCAI_WMHS/Amst/GE3T/101:/input     brain_pipeline/frsrf_minc_fsl     bash -c \". /etc/fsl/5.0/fsl.sh     && flirt -in /input/pre/FLAIR.nii.gz -ref /input/pre/FLAIR.nii.gz -out /input/pre/reg_FLAIR.nii.gz -omat /input/pre/some_transform.mat -applyisoxfm 1     && flirt -in /input/wmh.nii.gz -ref /input/pre/reg_FLAIR.nii.gz -out /input/reg_wmh.nii.gz -init /input/pre/some_transform.mat -applyisoxfm 1     && flirt -in /input/pre/T1.nii.gz -ref /input/pre/reg_FLAIR.nii.gz -out /input/pre/reg_T1.nii.gz -init /input/pre/some_transform.mat -applyisoxfm 1     \" \n",
      "/mount/export/RESAMPLED_MICCAI_WMHS/Amst/GE3T/112\n",
      "docker run --rm     --name O5RAZ67E1C     -v /mount/export/RESAMPLED_MICCAI_WMHS/Amst/GE3T/112:/input     brain_pipeline/frsrf_minc_fsl     bash -c \". /etc/fsl/5.0/fsl.sh     && flirt -in /input/pre/FLAIR.nii.gz -ref /input/pre/FLAIR.nii.gz -out /input/pre/reg_FLAIR.nii.gz -omat /input/pre/some_transform.mat -applyisoxfm 1     && flirt -in /input/wmh.nii.gz -ref /input/pre/reg_FLAIR.nii.gz -out /input/reg_wmh.nii.gz -init /input/pre/some_transform.mat -applyisoxfm 1     && flirt -in /input/pre/T1.nii.gz -ref /input/pre/reg_FLAIR.nii.gz -out /input/pre/reg_T1.nii.gz -init /input/pre/some_transform.mat -applyisoxfm 1     \" \n",
      "/mount/export/RESAMPLED_MICCAI_WMHS/Amst/GE3T/113\n",
      "docker run --rm     --name TKTG0UMXNL     -v /mount/export/RESAMPLED_MICCAI_WMHS/Amst/GE3T/113:/input     brain_pipeline/frsrf_minc_fsl     bash -c \". /etc/fsl/5.0/fsl.sh     && flirt -in /input/pre/FLAIR.nii.gz -ref /input/pre/FLAIR.nii.gz -out /input/pre/reg_FLAIR.nii.gz -omat /input/pre/some_transform.mat -applyisoxfm 1     && flirt -in /input/wmh.nii.gz -ref /input/pre/reg_FLAIR.nii.gz -out /input/reg_wmh.nii.gz -init /input/pre/some_transform.mat -applyisoxfm 1     && flirt -in /input/pre/T1.nii.gz -ref /input/pre/reg_FLAIR.nii.gz -out /input/pre/reg_T1.nii.gz -init /input/pre/some_transform.mat -applyisoxfm 1     \" \n",
      "/mount/export/RESAMPLED_MICCAI_WMHS/Amst/GE3T/108\n",
      "docker run --rm     --name UVXGBSITVL     -v /mount/export/RESAMPLED_MICCAI_WMHS/Amst/GE3T/108:/input     brain_pipeline/frsrf_minc_fsl     bash -c \". /etc/fsl/5.0/fsl.sh     && flirt -in /input/pre/FLAIR.nii.gz -ref /input/pre/FLAIR.nii.gz -out /input/pre/reg_FLAIR.nii.gz -omat /input/pre/some_transform.mat -applyisoxfm 1     && flirt -in /input/wmh.nii.gz -ref /input/pre/reg_FLAIR.nii.gz -out /input/reg_wmh.nii.gz -init /input/pre/some_transform.mat -applyisoxfm 1     && flirt -in /input/pre/T1.nii.gz -ref /input/pre/reg_FLAIR.nii.gz -out /input/pre/reg_T1.nii.gz -init /input/pre/some_transform.mat -applyisoxfm 1     \" \n",
      "/mount/export/RESAMPLED_MICCAI_WMHS/Amst/GE3T/116\n",
      "docker run --rm     --name ARFT9BO93L     -v /mount/export/RESAMPLED_MICCAI_WMHS/Amst/GE3T/116:/input     brain_pipeline/frsrf_minc_fsl     bash -c \". /etc/fsl/5.0/fsl.sh     && flirt -in /input/pre/FLAIR.nii.gz -ref /input/pre/FLAIR.nii.gz -out /input/pre/reg_FLAIR.nii.gz -omat /input/pre/some_transform.mat -applyisoxfm 1     && flirt -in /input/wmh.nii.gz -ref /input/pre/reg_FLAIR.nii.gz -out /input/reg_wmh.nii.gz -init /input/pre/some_transform.mat -applyisoxfm 1     && flirt -in /input/pre/T1.nii.gz -ref /input/pre/reg_FLAIR.nii.gz -out /input/pre/reg_T1.nii.gz -init /input/pre/some_transform.mat -applyisoxfm 1     \" \n",
      "/mount/export/RESAMPLED_MICCAI_WMHS/Amst/GE3T/126\n",
      "docker run --rm     --name M06GLQ93MR     -v /mount/export/RESAMPLED_MICCAI_WMHS/Amst/GE3T/126:/input     brain_pipeline/frsrf_minc_fsl     bash -c \". /etc/fsl/5.0/fsl.sh     && flirt -in /input/pre/FLAIR.nii.gz -ref /input/pre/FLAIR.nii.gz -out /input/pre/reg_FLAIR.nii.gz -omat /input/pre/some_transform.mat -applyisoxfm 1     && flirt -in /input/wmh.nii.gz -ref /input/pre/reg_FLAIR.nii.gz -out /input/reg_wmh.nii.gz -init /input/pre/some_transform.mat -applyisoxfm 1     && flirt -in /input/pre/T1.nii.gz -ref /input/pre/reg_FLAIR.nii.gz -out /input/pre/reg_T1.nii.gz -init /input/pre/some_transform.mat -applyisoxfm 1     \" \n",
      "/mount/export/RESAMPLED_MICCAI_WMHS/Amst/GE3T/109\n",
      "docker run --rm     --name 0ABCX9L4LR     -v /mount/export/RESAMPLED_MICCAI_WMHS/Amst/GE3T/109:/input     brain_pipeline/frsrf_minc_fsl     bash -c \". /etc/fsl/5.0/fsl.sh     && flirt -in /input/pre/FLAIR.nii.gz -ref /input/pre/FLAIR.nii.gz -out /input/pre/reg_FLAIR.nii.gz -omat /input/pre/some_transform.mat -applyisoxfm 1     && flirt -in /input/wmh.nii.gz -ref /input/pre/reg_FLAIR.nii.gz -out /input/reg_wmh.nii.gz -init /input/pre/some_transform.mat -applyisoxfm 1     && flirt -in /input/pre/T1.nii.gz -ref /input/pre/reg_FLAIR.nii.gz -out /input/pre/reg_T1.nii.gz -init /input/pre/some_transform.mat -applyisoxfm 1     \" \n",
      "/mount/export/RESAMPLED_MICCAI_WMHS/Amst/GE3T/106\n",
      "docker run --rm     --name XPKMYRNSVY     -v /mount/export/RESAMPLED_MICCAI_WMHS/Amst/GE3T/106:/input     brain_pipeline/frsrf_minc_fsl     bash -c \". /etc/fsl/5.0/fsl.sh     && flirt -in /input/pre/FLAIR.nii.gz -ref /input/pre/FLAIR.nii.gz -out /input/pre/reg_FLAIR.nii.gz -omat /input/pre/some_transform.mat -applyisoxfm 1     && flirt -in /input/wmh.nii.gz -ref /input/pre/reg_FLAIR.nii.gz -out /input/reg_wmh.nii.gz -init /input/pre/some_transform.mat -applyisoxfm 1     && flirt -in /input/pre/T1.nii.gz -ref /input/pre/reg_FLAIR.nii.gz -out /input/pre/reg_T1.nii.gz -init /input/pre/some_transform.mat -applyisoxfm 1     \" \n",
      "/mount/export/RESAMPLED_MICCAI_WMHS/Amst/GE3T/104\n",
      "docker run --rm     --name BDJRKUU7MO     -v /mount/export/RESAMPLED_MICCAI_WMHS/Amst/GE3T/104:/input     brain_pipeline/frsrf_minc_fsl     bash -c \". /etc/fsl/5.0/fsl.sh     && flirt -in /input/pre/FLAIR.nii.gz -ref /input/pre/FLAIR.nii.gz -out /input/pre/reg_FLAIR.nii.gz -omat /input/pre/some_transform.mat -applyisoxfm 1     && flirt -in /input/wmh.nii.gz -ref /input/pre/reg_FLAIR.nii.gz -out /input/reg_wmh.nii.gz -init /input/pre/some_transform.mat -applyisoxfm 1     && flirt -in /input/pre/T1.nii.gz -ref /input/pre/reg_FLAIR.nii.gz -out /input/pre/reg_T1.nii.gz -init /input/pre/some_transform.mat -applyisoxfm 1     \" \n"
     ]
    },
    {
     "name": "stdout",
     "output_type": "stream",
     "text": [
      "/mount/export/RESAMPLED_MICCAI_WMHS/Amst/GE3T/110\n",
      "docker run --rm     --name 7WZV5VPYH5     -v /mount/export/RESAMPLED_MICCAI_WMHS/Amst/GE3T/110:/input     brain_pipeline/frsrf_minc_fsl     bash -c \". /etc/fsl/5.0/fsl.sh     && flirt -in /input/pre/FLAIR.nii.gz -ref /input/pre/FLAIR.nii.gz -out /input/pre/reg_FLAIR.nii.gz -omat /input/pre/some_transform.mat -applyisoxfm 1     && flirt -in /input/wmh.nii.gz -ref /input/pre/reg_FLAIR.nii.gz -out /input/reg_wmh.nii.gz -init /input/pre/some_transform.mat -applyisoxfm 1     && flirt -in /input/pre/T1.nii.gz -ref /input/pre/reg_FLAIR.nii.gz -out /input/pre/reg_T1.nii.gz -init /input/pre/some_transform.mat -applyisoxfm 1     \" \n",
      "/mount/export/RESAMPLED_MICCAI_WMHS/Amst/GE3T/137\n",
      "docker run --rm     --name G3JG6EZ805     -v /mount/export/RESAMPLED_MICCAI_WMHS/Amst/GE3T/137:/input     brain_pipeline/frsrf_minc_fsl     bash -c \". /etc/fsl/5.0/fsl.sh     && flirt -in /input/pre/FLAIR.nii.gz -ref /input/pre/FLAIR.nii.gz -out /input/pre/reg_FLAIR.nii.gz -omat /input/pre/some_transform.mat -applyisoxfm 1     && flirt -in /input/wmh.nii.gz -ref /input/pre/reg_FLAIR.nii.gz -out /input/reg_wmh.nii.gz -init /input/pre/some_transform.mat -applyisoxfm 1     && flirt -in /input/pre/T1.nii.gz -ref /input/pre/reg_FLAIR.nii.gz -out /input/pre/reg_T1.nii.gz -init /input/pre/some_transform.mat -applyisoxfm 1     \" \n",
      "/mount/export/RESAMPLED_MICCAI_WMHS/Amst/GE3T/144\n",
      "docker run --rm     --name 2LRM9PRY93     -v /mount/export/RESAMPLED_MICCAI_WMHS/Amst/GE3T/144:/input     brain_pipeline/frsrf_minc_fsl     bash -c \". /etc/fsl/5.0/fsl.sh     && flirt -in /input/pre/FLAIR.nii.gz -ref /input/pre/FLAIR.nii.gz -out /input/pre/reg_FLAIR.nii.gz -omat /input/pre/some_transform.mat -applyisoxfm 1     && flirt -in /input/wmh.nii.gz -ref /input/pre/reg_FLAIR.nii.gz -out /input/reg_wmh.nii.gz -init /input/pre/some_transform.mat -applyisoxfm 1     && flirt -in /input/pre/T1.nii.gz -ref /input/pre/reg_FLAIR.nii.gz -out /input/pre/reg_T1.nii.gz -init /input/pre/some_transform.mat -applyisoxfm 1     \" \n",
      "/mount/export/RESAMPLED_MICCAI_WMHS/Amst/GE3T/103\n",
      "docker run --rm     --name 8MXSTIGCQO     -v /mount/export/RESAMPLED_MICCAI_WMHS/Amst/GE3T/103:/input     brain_pipeline/frsrf_minc_fsl     bash -c \". /etc/fsl/5.0/fsl.sh     && flirt -in /input/pre/FLAIR.nii.gz -ref /input/pre/FLAIR.nii.gz -out /input/pre/reg_FLAIR.nii.gz -omat /input/pre/some_transform.mat -applyisoxfm 1     && flirt -in /input/wmh.nii.gz -ref /input/pre/reg_FLAIR.nii.gz -out /input/reg_wmh.nii.gz -init /input/pre/some_transform.mat -applyisoxfm 1     && flirt -in /input/pre/T1.nii.gz -ref /input/pre/reg_FLAIR.nii.gz -out /input/pre/reg_T1.nii.gz -init /input/pre/some_transform.mat -applyisoxfm 1     \" \n",
      "/mount/export/RESAMPLED_MICCAI_WMHS/Amst/GE3T/115\n",
      "docker run --rm     --name RGB160JHY3     -v /mount/export/RESAMPLED_MICCAI_WMHS/Amst/GE3T/115:/input     brain_pipeline/frsrf_minc_fsl     bash -c \". /etc/fsl/5.0/fsl.sh     && flirt -in /input/pre/FLAIR.nii.gz -ref /input/pre/FLAIR.nii.gz -out /input/pre/reg_FLAIR.nii.gz -omat /input/pre/some_transform.mat -applyisoxfm 1     && flirt -in /input/wmh.nii.gz -ref /input/pre/reg_FLAIR.nii.gz -out /input/reg_wmh.nii.gz -init /input/pre/some_transform.mat -applyisoxfm 1     && flirt -in /input/pre/T1.nii.gz -ref /input/pre/reg_FLAIR.nii.gz -out /input/pre/reg_T1.nii.gz -init /input/pre/some_transform.mat -applyisoxfm 1     \" \n",
      "/mount/export/RESAMPLED_MICCAI_WMHS/Amst/GE3T/132\n",
      "docker run --rm     --name ZU6ASH53KV     -v /mount/export/RESAMPLED_MICCAI_WMHS/Amst/GE3T/132:/input     brain_pipeline/frsrf_minc_fsl     bash -c \". /etc/fsl/5.0/fsl.sh     && flirt -in /input/pre/FLAIR.nii.gz -ref /input/pre/FLAIR.nii.gz -out /input/pre/reg_FLAIR.nii.gz -omat /input/pre/some_transform.mat -applyisoxfm 1     && flirt -in /input/wmh.nii.gz -ref /input/pre/reg_FLAIR.nii.gz -out /input/reg_wmh.nii.gz -init /input/pre/some_transform.mat -applyisoxfm 1     && flirt -in /input/pre/T1.nii.gz -ref /input/pre/reg_FLAIR.nii.gz -out /input/pre/reg_T1.nii.gz -init /input/pre/some_transform.mat -applyisoxfm 1     \" \n",
      "/mount/export/RESAMPLED_MICCAI_WMHS/Amst/GE3T/105\n",
      "docker run --rm     --name C0HFQAT6F9     -v /mount/export/RESAMPLED_MICCAI_WMHS/Amst/GE3T/105:/input     brain_pipeline/frsrf_minc_fsl     bash -c \". /etc/fsl/5.0/fsl.sh     && flirt -in /input/pre/FLAIR.nii.gz -ref /input/pre/FLAIR.nii.gz -out /input/pre/reg_FLAIR.nii.gz -omat /input/pre/some_transform.mat -applyisoxfm 1     && flirt -in /input/wmh.nii.gz -ref /input/pre/reg_FLAIR.nii.gz -out /input/reg_wmh.nii.gz -init /input/pre/some_transform.mat -applyisoxfm 1     && flirt -in /input/pre/T1.nii.gz -ref /input/pre/reg_FLAIR.nii.gz -out /input/pre/reg_T1.nii.gz -init /input/pre/some_transform.mat -applyisoxfm 1     \" \n",
      "/mount/export/RESAMPLED_MICCAI_WMHS/Utr/Utrecht/41\n",
      "docker run --rm     --name 5GRCEHAD9V     -v /mount/export/RESAMPLED_MICCAI_WMHS/Utr/Utrecht/41:/input     brain_pipeline/frsrf_minc_fsl     bash -c \". /etc/fsl/5.0/fsl.sh     && flirt -in /input/pre/FLAIR.nii.gz -ref /input/pre/FLAIR.nii.gz -out /input/pre/reg_FLAIR.nii.gz -omat /input/pre/some_transform.mat -applyisoxfm 1     && flirt -in /input/wmh.nii.gz -ref /input/pre/reg_FLAIR.nii.gz -out /input/reg_wmh.nii.gz -init /input/pre/some_transform.mat -applyisoxfm 1     && flirt -in /input/pre/T1.nii.gz -ref /input/pre/reg_FLAIR.nii.gz -out /input/pre/reg_T1.nii.gz -init /input/pre/some_transform.mat -applyisoxfm 1     \" \n",
      "/mount/export/RESAMPLED_MICCAI_WMHS/Utr/Utrecht/2\n",
      "docker run --rm     --name 21E72MM7J0     -v /mount/export/RESAMPLED_MICCAI_WMHS/Utr/Utrecht/2:/input     brain_pipeline/frsrf_minc_fsl     bash -c \". /etc/fsl/5.0/fsl.sh     && flirt -in /input/pre/FLAIR.nii.gz -ref /input/pre/FLAIR.nii.gz -out /input/pre/reg_FLAIR.nii.gz -omat /input/pre/some_transform.mat -applyisoxfm 1     && flirt -in /input/wmh.nii.gz -ref /input/pre/reg_FLAIR.nii.gz -out /input/reg_wmh.nii.gz -init /input/pre/some_transform.mat -applyisoxfm 1     && flirt -in /input/pre/T1.nii.gz -ref /input/pre/reg_FLAIR.nii.gz -out /input/pre/reg_T1.nii.gz -init /input/pre/some_transform.mat -applyisoxfm 1     \" \n",
      "/mount/export/RESAMPLED_MICCAI_WMHS/Utr/Utrecht/49\n",
      "docker run --rm     --name 3VUA26149C     -v /mount/export/RESAMPLED_MICCAI_WMHS/Utr/Utrecht/49:/input     brain_pipeline/frsrf_minc_fsl     bash -c \". /etc/fsl/5.0/fsl.sh     && flirt -in /input/pre/FLAIR.nii.gz -ref /input/pre/FLAIR.nii.gz -out /input/pre/reg_FLAIR.nii.gz -omat /input/pre/some_transform.mat -applyisoxfm 1     && flirt -in /input/wmh.nii.gz -ref /input/pre/reg_FLAIR.nii.gz -out /input/reg_wmh.nii.gz -init /input/pre/some_transform.mat -applyisoxfm 1     && flirt -in /input/pre/T1.nii.gz -ref /input/pre/reg_FLAIR.nii.gz -out /input/pre/reg_T1.nii.gz -init /input/pre/some_transform.mat -applyisoxfm 1     \" \n",
      "/mount/export/RESAMPLED_MICCAI_WMHS/Utr/Utrecht/19\n",
      "docker run --rm     --name RJGQVGTM9U     -v /mount/export/RESAMPLED_MICCAI_WMHS/Utr/Utrecht/19:/input     brain_pipeline/frsrf_minc_fsl     bash -c \". /etc/fsl/5.0/fsl.sh     && flirt -in /input/pre/FLAIR.nii.gz -ref /input/pre/FLAIR.nii.gz -out /input/pre/reg_FLAIR.nii.gz -omat /input/pre/some_transform.mat -applyisoxfm 1     && flirt -in /input/wmh.nii.gz -ref /input/pre/reg_FLAIR.nii.gz -out /input/reg_wmh.nii.gz -init /input/pre/some_transform.mat -applyisoxfm 1     && flirt -in /input/pre/T1.nii.gz -ref /input/pre/reg_FLAIR.nii.gz -out /input/pre/reg_T1.nii.gz -init /input/pre/some_transform.mat -applyisoxfm 1     \" \n",
      "/mount/export/RESAMPLED_MICCAI_WMHS/Utr/Utrecht/39\n",
      "docker run --rm     --name 0TW68Z5GM9     -v /mount/export/RESAMPLED_MICCAI_WMHS/Utr/Utrecht/39:/input     brain_pipeline/frsrf_minc_fsl     bash -c \". /etc/fsl/5.0/fsl.sh     && flirt -in /input/pre/FLAIR.nii.gz -ref /input/pre/FLAIR.nii.gz -out /input/pre/reg_FLAIR.nii.gz -omat /input/pre/some_transform.mat -applyisoxfm 1     && flirt -in /input/wmh.nii.gz -ref /input/pre/reg_FLAIR.nii.gz -out /input/reg_wmh.nii.gz -init /input/pre/some_transform.mat -applyisoxfm 1     && flirt -in /input/pre/T1.nii.gz -ref /input/pre/reg_FLAIR.nii.gz -out /input/pre/reg_T1.nii.gz -init /input/pre/some_transform.mat -applyisoxfm 1     \" \n",
      "/mount/export/RESAMPLED_MICCAI_WMHS/Utr/Utrecht/31\n",
      "docker run --rm     --name 08CV9CF5Z2     -v /mount/export/RESAMPLED_MICCAI_WMHS/Utr/Utrecht/31:/input     brain_pipeline/frsrf_minc_fsl     bash -c \". /etc/fsl/5.0/fsl.sh     && flirt -in /input/pre/FLAIR.nii.gz -ref /input/pre/FLAIR.nii.gz -out /input/pre/reg_FLAIR.nii.gz -omat /input/pre/some_transform.mat -applyisoxfm 1     && flirt -in /input/wmh.nii.gz -ref /input/pre/reg_FLAIR.nii.gz -out /input/reg_wmh.nii.gz -init /input/pre/some_transform.mat -applyisoxfm 1     && flirt -in /input/pre/T1.nii.gz -ref /input/pre/reg_FLAIR.nii.gz -out /input/pre/reg_T1.nii.gz -init /input/pre/some_transform.mat -applyisoxfm 1     \" \n"
     ]
    },
    {
     "name": "stdout",
     "output_type": "stream",
     "text": [
      "/mount/export/RESAMPLED_MICCAI_WMHS/Utr/Utrecht/35\n",
      "docker run --rm     --name G72Y8WN3PF     -v /mount/export/RESAMPLED_MICCAI_WMHS/Utr/Utrecht/35:/input     brain_pipeline/frsrf_minc_fsl     bash -c \". /etc/fsl/5.0/fsl.sh     && flirt -in /input/pre/FLAIR.nii.gz -ref /input/pre/FLAIR.nii.gz -out /input/pre/reg_FLAIR.nii.gz -omat /input/pre/some_transform.mat -applyisoxfm 1     && flirt -in /input/wmh.nii.gz -ref /input/pre/reg_FLAIR.nii.gz -out /input/reg_wmh.nii.gz -init /input/pre/some_transform.mat -applyisoxfm 1     && flirt -in /input/pre/T1.nii.gz -ref /input/pre/reg_FLAIR.nii.gz -out /input/pre/reg_T1.nii.gz -init /input/pre/some_transform.mat -applyisoxfm 1     \" \n",
      "/mount/export/RESAMPLED_MICCAI_WMHS/Utr/Utrecht/21\n",
      "docker run --rm     --name XZGK51HQZH     -v /mount/export/RESAMPLED_MICCAI_WMHS/Utr/Utrecht/21:/input     brain_pipeline/frsrf_minc_fsl     bash -c \". /etc/fsl/5.0/fsl.sh     && flirt -in /input/pre/FLAIR.nii.gz -ref /input/pre/FLAIR.nii.gz -out /input/pre/reg_FLAIR.nii.gz -omat /input/pre/some_transform.mat -applyisoxfm 1     && flirt -in /input/wmh.nii.gz -ref /input/pre/reg_FLAIR.nii.gz -out /input/reg_wmh.nii.gz -init /input/pre/some_transform.mat -applyisoxfm 1     && flirt -in /input/pre/T1.nii.gz -ref /input/pre/reg_FLAIR.nii.gz -out /input/pre/reg_T1.nii.gz -init /input/pre/some_transform.mat -applyisoxfm 1     \" \n",
      "/mount/export/RESAMPLED_MICCAI_WMHS/Utr/Utrecht/6\n",
      "docker run --rm     --name GGITFGYAQ9     -v /mount/export/RESAMPLED_MICCAI_WMHS/Utr/Utrecht/6:/input     brain_pipeline/frsrf_minc_fsl     bash -c \". /etc/fsl/5.0/fsl.sh     && flirt -in /input/pre/FLAIR.nii.gz -ref /input/pre/FLAIR.nii.gz -out /input/pre/reg_FLAIR.nii.gz -omat /input/pre/some_transform.mat -applyisoxfm 1     && flirt -in /input/wmh.nii.gz -ref /input/pre/reg_FLAIR.nii.gz -out /input/reg_wmh.nii.gz -init /input/pre/some_transform.mat -applyisoxfm 1     && flirt -in /input/pre/T1.nii.gz -ref /input/pre/reg_FLAIR.nii.gz -out /input/pre/reg_T1.nii.gz -init /input/pre/some_transform.mat -applyisoxfm 1     \" \n",
      "/mount/export/RESAMPLED_MICCAI_WMHS/Utr/Utrecht/29\n",
      "docker run --rm     --name IY2PZT71D5     -v /mount/export/RESAMPLED_MICCAI_WMHS/Utr/Utrecht/29:/input     brain_pipeline/frsrf_minc_fsl     bash -c \". /etc/fsl/5.0/fsl.sh     && flirt -in /input/pre/FLAIR.nii.gz -ref /input/pre/FLAIR.nii.gz -out /input/pre/reg_FLAIR.nii.gz -omat /input/pre/some_transform.mat -applyisoxfm 1     && flirt -in /input/wmh.nii.gz -ref /input/pre/reg_FLAIR.nii.gz -out /input/reg_wmh.nii.gz -init /input/pre/some_transform.mat -applyisoxfm 1     && flirt -in /input/pre/T1.nii.gz -ref /input/pre/reg_FLAIR.nii.gz -out /input/pre/reg_T1.nii.gz -init /input/pre/some_transform.mat -applyisoxfm 1     \" \n",
      "/mount/export/RESAMPLED_MICCAI_WMHS/Utr/Utrecht/25\n",
      "docker run --rm     --name 1C0MEHSO5F     -v /mount/export/RESAMPLED_MICCAI_WMHS/Utr/Utrecht/25:/input     brain_pipeline/frsrf_minc_fsl     bash -c \". /etc/fsl/5.0/fsl.sh     && flirt -in /input/pre/FLAIR.nii.gz -ref /input/pre/FLAIR.nii.gz -out /input/pre/reg_FLAIR.nii.gz -omat /input/pre/some_transform.mat -applyisoxfm 1     && flirt -in /input/wmh.nii.gz -ref /input/pre/reg_FLAIR.nii.gz -out /input/reg_wmh.nii.gz -init /input/pre/some_transform.mat -applyisoxfm 1     && flirt -in /input/pre/T1.nii.gz -ref /input/pre/reg_FLAIR.nii.gz -out /input/pre/reg_T1.nii.gz -init /input/pre/some_transform.mat -applyisoxfm 1     \" \n",
      "/mount/export/RESAMPLED_MICCAI_WMHS/Utr/Utrecht/0\n",
      "docker run --rm     --name KLO8LBB45I     -v /mount/export/RESAMPLED_MICCAI_WMHS/Utr/Utrecht/0:/input     brain_pipeline/frsrf_minc_fsl     bash -c \". /etc/fsl/5.0/fsl.sh     && flirt -in /input/pre/FLAIR.nii.gz -ref /input/pre/FLAIR.nii.gz -out /input/pre/reg_FLAIR.nii.gz -omat /input/pre/some_transform.mat -applyisoxfm 1     && flirt -in /input/wmh.nii.gz -ref /input/pre/reg_FLAIR.nii.gz -out /input/reg_wmh.nii.gz -init /input/pre/some_transform.mat -applyisoxfm 1     && flirt -in /input/pre/T1.nii.gz -ref /input/pre/reg_FLAIR.nii.gz -out /input/pre/reg_T1.nii.gz -init /input/pre/some_transform.mat -applyisoxfm 1     \" \n",
      "/mount/export/RESAMPLED_MICCAI_WMHS/Utr/Utrecht/17\n",
      "docker run --rm     --name LT3KZ9QCZC     -v /mount/export/RESAMPLED_MICCAI_WMHS/Utr/Utrecht/17:/input     brain_pipeline/frsrf_minc_fsl     bash -c \". /etc/fsl/5.0/fsl.sh     && flirt -in /input/pre/FLAIR.nii.gz -ref /input/pre/FLAIR.nii.gz -out /input/pre/reg_FLAIR.nii.gz -omat /input/pre/some_transform.mat -applyisoxfm 1     && flirt -in /input/wmh.nii.gz -ref /input/pre/reg_FLAIR.nii.gz -out /input/reg_wmh.nii.gz -init /input/pre/some_transform.mat -applyisoxfm 1     && flirt -in /input/pre/T1.nii.gz -ref /input/pre/reg_FLAIR.nii.gz -out /input/pre/reg_T1.nii.gz -init /input/pre/some_transform.mat -applyisoxfm 1     \" \n",
      "/mount/export/RESAMPLED_MICCAI_WMHS/Utr/Utrecht/11\n",
      "docker run --rm     --name 3GJZEJB89R     -v /mount/export/RESAMPLED_MICCAI_WMHS/Utr/Utrecht/11:/input     brain_pipeline/frsrf_minc_fsl     bash -c \". /etc/fsl/5.0/fsl.sh     && flirt -in /input/pre/FLAIR.nii.gz -ref /input/pre/FLAIR.nii.gz -out /input/pre/reg_FLAIR.nii.gz -omat /input/pre/some_transform.mat -applyisoxfm 1     && flirt -in /input/wmh.nii.gz -ref /input/pre/reg_FLAIR.nii.gz -out /input/reg_wmh.nii.gz -init /input/pre/some_transform.mat -applyisoxfm 1     && flirt -in /input/pre/T1.nii.gz -ref /input/pre/reg_FLAIR.nii.gz -out /input/pre/reg_T1.nii.gz -init /input/pre/some_transform.mat -applyisoxfm 1     \" \n",
      "/mount/export/RESAMPLED_MICCAI_WMHS/Utr/Utrecht/27\n",
      "docker run --rm     --name VP7V3WEJA5     -v /mount/export/RESAMPLED_MICCAI_WMHS/Utr/Utrecht/27:/input     brain_pipeline/frsrf_minc_fsl     bash -c \". /etc/fsl/5.0/fsl.sh     && flirt -in /input/pre/FLAIR.nii.gz -ref /input/pre/FLAIR.nii.gz -out /input/pre/reg_FLAIR.nii.gz -omat /input/pre/some_transform.mat -applyisoxfm 1     && flirt -in /input/wmh.nii.gz -ref /input/pre/reg_FLAIR.nii.gz -out /input/reg_wmh.nii.gz -init /input/pre/some_transform.mat -applyisoxfm 1     && flirt -in /input/pre/T1.nii.gz -ref /input/pre/reg_FLAIR.nii.gz -out /input/pre/reg_T1.nii.gz -init /input/pre/some_transform.mat -applyisoxfm 1     \" \n",
      "/mount/export/RESAMPLED_MICCAI_WMHS/Utr/Utrecht/23\n",
      "docker run --rm     --name D2HGG8KO81     -v /mount/export/RESAMPLED_MICCAI_WMHS/Utr/Utrecht/23:/input     brain_pipeline/frsrf_minc_fsl     bash -c \". /etc/fsl/5.0/fsl.sh     && flirt -in /input/pre/FLAIR.nii.gz -ref /input/pre/FLAIR.nii.gz -out /input/pre/reg_FLAIR.nii.gz -omat /input/pre/some_transform.mat -applyisoxfm 1     && flirt -in /input/wmh.nii.gz -ref /input/pre/reg_FLAIR.nii.gz -out /input/reg_wmh.nii.gz -init /input/pre/some_transform.mat -applyisoxfm 1     && flirt -in /input/pre/T1.nii.gz -ref /input/pre/reg_FLAIR.nii.gz -out /input/pre/reg_T1.nii.gz -init /input/pre/some_transform.mat -applyisoxfm 1     \" \n",
      "/mount/export/RESAMPLED_MICCAI_WMHS/Utr/Utrecht/4\n",
      "docker run --rm     --name FSYQZEIOJN     -v /mount/export/RESAMPLED_MICCAI_WMHS/Utr/Utrecht/4:/input     brain_pipeline/frsrf_minc_fsl     bash -c \". /etc/fsl/5.0/fsl.sh     && flirt -in /input/pre/FLAIR.nii.gz -ref /input/pre/FLAIR.nii.gz -out /input/pre/reg_FLAIR.nii.gz -omat /input/pre/some_transform.mat -applyisoxfm 1     && flirt -in /input/wmh.nii.gz -ref /input/pre/reg_FLAIR.nii.gz -out /input/reg_wmh.nii.gz -init /input/pre/some_transform.mat -applyisoxfm 1     && flirt -in /input/pre/T1.nii.gz -ref /input/pre/reg_FLAIR.nii.gz -out /input/pre/reg_T1.nii.gz -init /input/pre/some_transform.mat -applyisoxfm 1     \" \n",
      "/mount/export/RESAMPLED_MICCAI_WMHS/Utr/Utrecht/37\n",
      "docker run --rm     --name RTX4TH5WUQ     -v /mount/export/RESAMPLED_MICCAI_WMHS/Utr/Utrecht/37:/input     brain_pipeline/frsrf_minc_fsl     bash -c \". /etc/fsl/5.0/fsl.sh     && flirt -in /input/pre/FLAIR.nii.gz -ref /input/pre/FLAIR.nii.gz -out /input/pre/reg_FLAIR.nii.gz -omat /input/pre/some_transform.mat -applyisoxfm 1     && flirt -in /input/wmh.nii.gz -ref /input/pre/reg_FLAIR.nii.gz -out /input/reg_wmh.nii.gz -init /input/pre/some_transform.mat -applyisoxfm 1     && flirt -in /input/pre/T1.nii.gz -ref /input/pre/reg_FLAIR.nii.gz -out /input/pre/reg_T1.nii.gz -init /input/pre/some_transform.mat -applyisoxfm 1     \" \n",
      "/mount/export/RESAMPLED_MICCAI_WMHS/Utr/Utrecht/8\n",
      "docker run --rm     --name Y6172RFG5I     -v /mount/export/RESAMPLED_MICCAI_WMHS/Utr/Utrecht/8:/input     brain_pipeline/frsrf_minc_fsl     bash -c \". /etc/fsl/5.0/fsl.sh     && flirt -in /input/pre/FLAIR.nii.gz -ref /input/pre/FLAIR.nii.gz -out /input/pre/reg_FLAIR.nii.gz -omat /input/pre/some_transform.mat -applyisoxfm 1     && flirt -in /input/wmh.nii.gz -ref /input/pre/reg_FLAIR.nii.gz -out /input/reg_wmh.nii.gz -init /input/pre/some_transform.mat -applyisoxfm 1     && flirt -in /input/pre/T1.nii.gz -ref /input/pre/reg_FLAIR.nii.gz -out /input/pre/reg_T1.nii.gz -init /input/pre/some_transform.mat -applyisoxfm 1     \" \n"
     ]
    },
    {
     "name": "stdout",
     "output_type": "stream",
     "text": [
      "/mount/export/RESAMPLED_MICCAI_WMHS/Utr/Utrecht/33\n",
      "docker run --rm     --name KARQN752ZY     -v /mount/export/RESAMPLED_MICCAI_WMHS/Utr/Utrecht/33:/input     brain_pipeline/frsrf_minc_fsl     bash -c \". /etc/fsl/5.0/fsl.sh     && flirt -in /input/pre/FLAIR.nii.gz -ref /input/pre/FLAIR.nii.gz -out /input/pre/reg_FLAIR.nii.gz -omat /input/pre/some_transform.mat -applyisoxfm 1     && flirt -in /input/wmh.nii.gz -ref /input/pre/reg_FLAIR.nii.gz -out /input/reg_wmh.nii.gz -init /input/pre/some_transform.mat -applyisoxfm 1     && flirt -in /input/pre/T1.nii.gz -ref /input/pre/reg_FLAIR.nii.gz -out /input/pre/reg_T1.nii.gz -init /input/pre/some_transform.mat -applyisoxfm 1     \" \n",
      "/mount/export/RESAMPLED_MICCAI_WMHS/Sing/Singapore/61\n",
      "docker run --rm     --name KNFECDI5ZX     -v /mount/export/RESAMPLED_MICCAI_WMHS/Sing/Singapore/61:/input     brain_pipeline/frsrf_minc_fsl     bash -c \". /etc/fsl/5.0/fsl.sh     && flirt -in /input/pre/FLAIR.nii.gz -ref /input/pre/FLAIR.nii.gz -out /input/pre/reg_FLAIR.nii.gz -omat /input/pre/some_transform.mat -applyisoxfm 1     && flirt -in /input/wmh.nii.gz -ref /input/pre/reg_FLAIR.nii.gz -out /input/reg_wmh.nii.gz -init /input/pre/some_transform.mat -applyisoxfm 1     && flirt -in /input/pre/T1.nii.gz -ref /input/pre/reg_FLAIR.nii.gz -out /input/pre/reg_T1.nii.gz -init /input/pre/some_transform.mat -applyisoxfm 1     \" \n",
      "/mount/export/RESAMPLED_MICCAI_WMHS/Sing/Singapore/53\n",
      "docker run --rm     --name KOGHL2LZCY     -v /mount/export/RESAMPLED_MICCAI_WMHS/Sing/Singapore/53:/input     brain_pipeline/frsrf_minc_fsl     bash -c \". /etc/fsl/5.0/fsl.sh     && flirt -in /input/pre/FLAIR.nii.gz -ref /input/pre/FLAIR.nii.gz -out /input/pre/reg_FLAIR.nii.gz -omat /input/pre/some_transform.mat -applyisoxfm 1     && flirt -in /input/wmh.nii.gz -ref /input/pre/reg_FLAIR.nii.gz -out /input/reg_wmh.nii.gz -init /input/pre/some_transform.mat -applyisoxfm 1     && flirt -in /input/pre/T1.nii.gz -ref /input/pre/reg_FLAIR.nii.gz -out /input/pre/reg_T1.nii.gz -init /input/pre/some_transform.mat -applyisoxfm 1     \" \n",
      "/mount/export/RESAMPLED_MICCAI_WMHS/Sing/Singapore/60\n",
      "docker run --rm     --name 525YTMOZ89     -v /mount/export/RESAMPLED_MICCAI_WMHS/Sing/Singapore/60:/input     brain_pipeline/frsrf_minc_fsl     bash -c \". /etc/fsl/5.0/fsl.sh     && flirt -in /input/pre/FLAIR.nii.gz -ref /input/pre/FLAIR.nii.gz -out /input/pre/reg_FLAIR.nii.gz -omat /input/pre/some_transform.mat -applyisoxfm 1     && flirt -in /input/wmh.nii.gz -ref /input/pre/reg_FLAIR.nii.gz -out /input/reg_wmh.nii.gz -init /input/pre/some_transform.mat -applyisoxfm 1     && flirt -in /input/pre/T1.nii.gz -ref /input/pre/reg_FLAIR.nii.gz -out /input/pre/reg_T1.nii.gz -init /input/pre/some_transform.mat -applyisoxfm 1     \" \n",
      "/mount/export/RESAMPLED_MICCAI_WMHS/Sing/Singapore/68\n",
      "docker run --rm     --name HYNXD9LDXI     -v /mount/export/RESAMPLED_MICCAI_WMHS/Sing/Singapore/68:/input     brain_pipeline/frsrf_minc_fsl     bash -c \". /etc/fsl/5.0/fsl.sh     && flirt -in /input/pre/FLAIR.nii.gz -ref /input/pre/FLAIR.nii.gz -out /input/pre/reg_FLAIR.nii.gz -omat /input/pre/some_transform.mat -applyisoxfm 1     && flirt -in /input/wmh.nii.gz -ref /input/pre/reg_FLAIR.nii.gz -out /input/reg_wmh.nii.gz -init /input/pre/some_transform.mat -applyisoxfm 1     && flirt -in /input/pre/T1.nii.gz -ref /input/pre/reg_FLAIR.nii.gz -out /input/pre/reg_T1.nii.gz -init /input/pre/some_transform.mat -applyisoxfm 1     \" \n",
      "/mount/export/RESAMPLED_MICCAI_WMHS/Sing/Singapore/54\n",
      "docker run --rm     --name FOWC3KPJ0Z     -v /mount/export/RESAMPLED_MICCAI_WMHS/Sing/Singapore/54:/input     brain_pipeline/frsrf_minc_fsl     bash -c \". /etc/fsl/5.0/fsl.sh     && flirt -in /input/pre/FLAIR.nii.gz -ref /input/pre/FLAIR.nii.gz -out /input/pre/reg_FLAIR.nii.gz -omat /input/pre/some_transform.mat -applyisoxfm 1     && flirt -in /input/wmh.nii.gz -ref /input/pre/reg_FLAIR.nii.gz -out /input/reg_wmh.nii.gz -init /input/pre/some_transform.mat -applyisoxfm 1     && flirt -in /input/pre/T1.nii.gz -ref /input/pre/reg_FLAIR.nii.gz -out /input/pre/reg_T1.nii.gz -init /input/pre/some_transform.mat -applyisoxfm 1     \" \n",
      "/mount/export/RESAMPLED_MICCAI_WMHS/Sing/Singapore/59\n",
      "docker run --rm     --name 1Q9NWC7LFK     -v /mount/export/RESAMPLED_MICCAI_WMHS/Sing/Singapore/59:/input     brain_pipeline/frsrf_minc_fsl     bash -c \". /etc/fsl/5.0/fsl.sh     && flirt -in /input/pre/FLAIR.nii.gz -ref /input/pre/FLAIR.nii.gz -out /input/pre/reg_FLAIR.nii.gz -omat /input/pre/some_transform.mat -applyisoxfm 1     && flirt -in /input/wmh.nii.gz -ref /input/pre/reg_FLAIR.nii.gz -out /input/reg_wmh.nii.gz -init /input/pre/some_transform.mat -applyisoxfm 1     && flirt -in /input/pre/T1.nii.gz -ref /input/pre/reg_FLAIR.nii.gz -out /input/pre/reg_T1.nii.gz -init /input/pre/some_transform.mat -applyisoxfm 1     \" \n",
      "/mount/export/RESAMPLED_MICCAI_WMHS/Sing/Singapore/62\n",
      "docker run --rm     --name TNNY0LVBO9     -v /mount/export/RESAMPLED_MICCAI_WMHS/Sing/Singapore/62:/input     brain_pipeline/frsrf_minc_fsl     bash -c \". /etc/fsl/5.0/fsl.sh     && flirt -in /input/pre/FLAIR.nii.gz -ref /input/pre/FLAIR.nii.gz -out /input/pre/reg_FLAIR.nii.gz -omat /input/pre/some_transform.mat -applyisoxfm 1     && flirt -in /input/wmh.nii.gz -ref /input/pre/reg_FLAIR.nii.gz -out /input/reg_wmh.nii.gz -init /input/pre/some_transform.mat -applyisoxfm 1     && flirt -in /input/pre/T1.nii.gz -ref /input/pre/reg_FLAIR.nii.gz -out /input/pre/reg_T1.nii.gz -init /input/pre/some_transform.mat -applyisoxfm 1     \" \n",
      "/mount/export/RESAMPLED_MICCAI_WMHS/Sing/Singapore/65\n",
      "docker run --rm     --name M6MJIUIE9B     -v /mount/export/RESAMPLED_MICCAI_WMHS/Sing/Singapore/65:/input     brain_pipeline/frsrf_minc_fsl     bash -c \". /etc/fsl/5.0/fsl.sh     && flirt -in /input/pre/FLAIR.nii.gz -ref /input/pre/FLAIR.nii.gz -out /input/pre/reg_FLAIR.nii.gz -omat /input/pre/some_transform.mat -applyisoxfm 1     && flirt -in /input/wmh.nii.gz -ref /input/pre/reg_FLAIR.nii.gz -out /input/reg_wmh.nii.gz -init /input/pre/some_transform.mat -applyisoxfm 1     && flirt -in /input/pre/T1.nii.gz -ref /input/pre/reg_FLAIR.nii.gz -out /input/pre/reg_T1.nii.gz -init /input/pre/some_transform.mat -applyisoxfm 1     \" \n",
      "/mount/export/RESAMPLED_MICCAI_WMHS/Sing/Singapore/55\n",
      "docker run --rm     --name B5QOPE2KRD     -v /mount/export/RESAMPLED_MICCAI_WMHS/Sing/Singapore/55:/input     brain_pipeline/frsrf_minc_fsl     bash -c \". /etc/fsl/5.0/fsl.sh     && flirt -in /input/pre/FLAIR.nii.gz -ref /input/pre/FLAIR.nii.gz -out /input/pre/reg_FLAIR.nii.gz -omat /input/pre/some_transform.mat -applyisoxfm 1     && flirt -in /input/wmh.nii.gz -ref /input/pre/reg_FLAIR.nii.gz -out /input/reg_wmh.nii.gz -init /input/pre/some_transform.mat -applyisoxfm 1     && flirt -in /input/pre/T1.nii.gz -ref /input/pre/reg_FLAIR.nii.gz -out /input/pre/reg_T1.nii.gz -init /input/pre/some_transform.mat -applyisoxfm 1     \" \n",
      "/mount/export/RESAMPLED_MICCAI_WMHS/Sing/Singapore/63\n",
      "docker run --rm     --name HUF5MLJNBF     -v /mount/export/RESAMPLED_MICCAI_WMHS/Sing/Singapore/63:/input     brain_pipeline/frsrf_minc_fsl     bash -c \". /etc/fsl/5.0/fsl.sh     && flirt -in /input/pre/FLAIR.nii.gz -ref /input/pre/FLAIR.nii.gz -out /input/pre/reg_FLAIR.nii.gz -omat /input/pre/some_transform.mat -applyisoxfm 1     && flirt -in /input/wmh.nii.gz -ref /input/pre/reg_FLAIR.nii.gz -out /input/reg_wmh.nii.gz -init /input/pre/some_transform.mat -applyisoxfm 1     && flirt -in /input/pre/T1.nii.gz -ref /input/pre/reg_FLAIR.nii.gz -out /input/pre/reg_T1.nii.gz -init /input/pre/some_transform.mat -applyisoxfm 1     \" \n",
      "/mount/export/RESAMPLED_MICCAI_WMHS/Sing/Singapore/56\n",
      "docker run --rm     --name V7N1VAXWXD     -v /mount/export/RESAMPLED_MICCAI_WMHS/Sing/Singapore/56:/input     brain_pipeline/frsrf_minc_fsl     bash -c \". /etc/fsl/5.0/fsl.sh     && flirt -in /input/pre/FLAIR.nii.gz -ref /input/pre/FLAIR.nii.gz -out /input/pre/reg_FLAIR.nii.gz -omat /input/pre/some_transform.mat -applyisoxfm 1     && flirt -in /input/wmh.nii.gz -ref /input/pre/reg_FLAIR.nii.gz -out /input/reg_wmh.nii.gz -init /input/pre/some_transform.mat -applyisoxfm 1     && flirt -in /input/pre/T1.nii.gz -ref /input/pre/reg_FLAIR.nii.gz -out /input/pre/reg_T1.nii.gz -init /input/pre/some_transform.mat -applyisoxfm 1     \" \n"
     ]
    },
    {
     "name": "stdout",
     "output_type": "stream",
     "text": [
      "/mount/export/RESAMPLED_MICCAI_WMHS/Sing/Singapore/66\n",
      "docker run --rm     --name M1NNG6O9M8     -v /mount/export/RESAMPLED_MICCAI_WMHS/Sing/Singapore/66:/input     brain_pipeline/frsrf_minc_fsl     bash -c \". /etc/fsl/5.0/fsl.sh     && flirt -in /input/pre/FLAIR.nii.gz -ref /input/pre/FLAIR.nii.gz -out /input/pre/reg_FLAIR.nii.gz -omat /input/pre/some_transform.mat -applyisoxfm 1     && flirt -in /input/wmh.nii.gz -ref /input/pre/reg_FLAIR.nii.gz -out /input/reg_wmh.nii.gz -init /input/pre/some_transform.mat -applyisoxfm 1     && flirt -in /input/pre/T1.nii.gz -ref /input/pre/reg_FLAIR.nii.gz -out /input/pre/reg_T1.nii.gz -init /input/pre/some_transform.mat -applyisoxfm 1     \" \n",
      "/mount/export/RESAMPLED_MICCAI_WMHS/Sing/Singapore/58\n",
      "docker run --rm     --name H8WP9P9IO5     -v /mount/export/RESAMPLED_MICCAI_WMHS/Sing/Singapore/58:/input     brain_pipeline/frsrf_minc_fsl     bash -c \". /etc/fsl/5.0/fsl.sh     && flirt -in /input/pre/FLAIR.nii.gz -ref /input/pre/FLAIR.nii.gz -out /input/pre/reg_FLAIR.nii.gz -omat /input/pre/some_transform.mat -applyisoxfm 1     && flirt -in /input/wmh.nii.gz -ref /input/pre/reg_FLAIR.nii.gz -out /input/reg_wmh.nii.gz -init /input/pre/some_transform.mat -applyisoxfm 1     && flirt -in /input/pre/T1.nii.gz -ref /input/pre/reg_FLAIR.nii.gz -out /input/pre/reg_T1.nii.gz -init /input/pre/some_transform.mat -applyisoxfm 1     \" \n",
      "/mount/export/RESAMPLED_MICCAI_WMHS/Sing/Singapore/57\n",
      "docker run --rm     --name 8K5LQ4P4LL     -v /mount/export/RESAMPLED_MICCAI_WMHS/Sing/Singapore/57:/input     brain_pipeline/frsrf_minc_fsl     bash -c \". /etc/fsl/5.0/fsl.sh     && flirt -in /input/pre/FLAIR.nii.gz -ref /input/pre/FLAIR.nii.gz -out /input/pre/reg_FLAIR.nii.gz -omat /input/pre/some_transform.mat -applyisoxfm 1     && flirt -in /input/wmh.nii.gz -ref /input/pre/reg_FLAIR.nii.gz -out /input/reg_wmh.nii.gz -init /input/pre/some_transform.mat -applyisoxfm 1     && flirt -in /input/pre/T1.nii.gz -ref /input/pre/reg_FLAIR.nii.gz -out /input/pre/reg_T1.nii.gz -init /input/pre/some_transform.mat -applyisoxfm 1     \" \n",
      "/mount/export/RESAMPLED_MICCAI_WMHS/Sing/Singapore/69\n",
      "docker run --rm     --name QN9V58PW8S     -v /mount/export/RESAMPLED_MICCAI_WMHS/Sing/Singapore/69:/input     brain_pipeline/frsrf_minc_fsl     bash -c \". /etc/fsl/5.0/fsl.sh     && flirt -in /input/pre/FLAIR.nii.gz -ref /input/pre/FLAIR.nii.gz -out /input/pre/reg_FLAIR.nii.gz -omat /input/pre/some_transform.mat -applyisoxfm 1     && flirt -in /input/wmh.nii.gz -ref /input/pre/reg_FLAIR.nii.gz -out /input/reg_wmh.nii.gz -init /input/pre/some_transform.mat -applyisoxfm 1     && flirt -in /input/pre/T1.nii.gz -ref /input/pre/reg_FLAIR.nii.gz -out /input/pre/reg_T1.nii.gz -init /input/pre/some_transform.mat -applyisoxfm 1     \" \n",
      "/mount/export/RESAMPLED_MICCAI_WMHS/Sing/Singapore/67\n",
      "docker run --rm     --name Q2AD26YEDP     -v /mount/export/RESAMPLED_MICCAI_WMHS/Sing/Singapore/67:/input     brain_pipeline/frsrf_minc_fsl     bash -c \". /etc/fsl/5.0/fsl.sh     && flirt -in /input/pre/FLAIR.nii.gz -ref /input/pre/FLAIR.nii.gz -out /input/pre/reg_FLAIR.nii.gz -omat /input/pre/some_transform.mat -applyisoxfm 1     && flirt -in /input/wmh.nii.gz -ref /input/pre/reg_FLAIR.nii.gz -out /input/reg_wmh.nii.gz -init /input/pre/some_transform.mat -applyisoxfm 1     && flirt -in /input/pre/T1.nii.gz -ref /input/pre/reg_FLAIR.nii.gz -out /input/pre/reg_T1.nii.gz -init /input/pre/some_transform.mat -applyisoxfm 1     \" \n",
      "/mount/export/RESAMPLED_MICCAI_WMHS/Sing/Singapore/51\n",
      "docker run --rm     --name VWXG4G2QPR     -v /mount/export/RESAMPLED_MICCAI_WMHS/Sing/Singapore/51:/input     brain_pipeline/frsrf_minc_fsl     bash -c \". /etc/fsl/5.0/fsl.sh     && flirt -in /input/pre/FLAIR.nii.gz -ref /input/pre/FLAIR.nii.gz -out /input/pre/reg_FLAIR.nii.gz -omat /input/pre/some_transform.mat -applyisoxfm 1     && flirt -in /input/wmh.nii.gz -ref /input/pre/reg_FLAIR.nii.gz -out /input/reg_wmh.nii.gz -init /input/pre/some_transform.mat -applyisoxfm 1     && flirt -in /input/pre/T1.nii.gz -ref /input/pre/reg_FLAIR.nii.gz -out /input/pre/reg_T1.nii.gz -init /input/pre/some_transform.mat -applyisoxfm 1     \" \n",
      "/mount/export/RESAMPLED_MICCAI_WMHS/Sing/Singapore/50\n",
      "docker run --rm     --name 7943V5Z84V     -v /mount/export/RESAMPLED_MICCAI_WMHS/Sing/Singapore/50:/input     brain_pipeline/frsrf_minc_fsl     bash -c \". /etc/fsl/5.0/fsl.sh     && flirt -in /input/pre/FLAIR.nii.gz -ref /input/pre/FLAIR.nii.gz -out /input/pre/reg_FLAIR.nii.gz -omat /input/pre/some_transform.mat -applyisoxfm 1     && flirt -in /input/wmh.nii.gz -ref /input/pre/reg_FLAIR.nii.gz -out /input/reg_wmh.nii.gz -init /input/pre/some_transform.mat -applyisoxfm 1     && flirt -in /input/pre/T1.nii.gz -ref /input/pre/reg_FLAIR.nii.gz -out /input/pre/reg_T1.nii.gz -init /input/pre/some_transform.mat -applyisoxfm 1     \" \n",
      "/mount/export/RESAMPLED_MICCAI_WMHS/Sing/Singapore/52\n",
      "docker run --rm     --name G9EC40KOYM     -v /mount/export/RESAMPLED_MICCAI_WMHS/Sing/Singapore/52:/input     brain_pipeline/frsrf_minc_fsl     bash -c \". /etc/fsl/5.0/fsl.sh     && flirt -in /input/pre/FLAIR.nii.gz -ref /input/pre/FLAIR.nii.gz -out /input/pre/reg_FLAIR.nii.gz -omat /input/pre/some_transform.mat -applyisoxfm 1     && flirt -in /input/wmh.nii.gz -ref /input/pre/reg_FLAIR.nii.gz -out /input/reg_wmh.nii.gz -init /input/pre/some_transform.mat -applyisoxfm 1     && flirt -in /input/pre/T1.nii.gz -ref /input/pre/reg_FLAIR.nii.gz -out /input/pre/reg_T1.nii.gz -init /input/pre/some_transform.mat -applyisoxfm 1     \" \n",
      "/mount/export/RESAMPLED_MICCAI_WMHS/Sing/Singapore/64\n",
      "docker run --rm     --name IOLP7TZG57     -v /mount/export/RESAMPLED_MICCAI_WMHS/Sing/Singapore/64:/input     brain_pipeline/frsrf_minc_fsl     bash -c \". /etc/fsl/5.0/fsl.sh     && flirt -in /input/pre/FLAIR.nii.gz -ref /input/pre/FLAIR.nii.gz -out /input/pre/reg_FLAIR.nii.gz -omat /input/pre/some_transform.mat -applyisoxfm 1     && flirt -in /input/wmh.nii.gz -ref /input/pre/reg_FLAIR.nii.gz -out /input/reg_wmh.nii.gz -init /input/pre/some_transform.mat -applyisoxfm 1     && flirt -in /input/pre/T1.nii.gz -ref /input/pre/reg_FLAIR.nii.gz -out /input/pre/reg_T1.nii.gz -init /input/pre/some_transform.mat -applyisoxfm 1     \" \n"
     ]
    }
   ],
   "source": [
    "# and then running flirt brain anisotropy\n",
    "\n",
    "for path, dirs, files in os.walk(path_to_copy):\n",
    "    if 'wmh.nii.gz' in files:\n",
    "        path_to_new_files = os.path.join(path_to_copy, '/'.join(path.split('/')[-3:]))\n",
    "        print (path_to_new_files)\n",
    "        isotr_transform_for(path_to_new_files)"
   ]
  },
  {
   "cell_type": "code",
   "execution_count": 10,
   "metadata": {},
   "outputs": [
    {
     "name": "stdout",
     "output_type": "stream",
     "text": [
      "docker run --rm     --name FSO1XVFVJP     -v /mount/export/RESAMPLED_MICCAI_WMHS/Amst/GE3T/114/pre:/input     brain_pipeline/frsrf_minc_fsl     bash -c \". /etc/fsl/5.0/fsl.sh     && bet /input/reg_T1.nii.gz /input/brainmask_reg_T1.nii.gz -m -n -f .4    \" \n",
      "docker run --rm     --name 4DOXV1FYV9     -v /mount/export/RESAMPLED_MICCAI_WMHS/Amst/GE3T/100/pre:/input     brain_pipeline/frsrf_minc_fsl     bash -c \". /etc/fsl/5.0/fsl.sh     && bet /input/reg_T1.nii.gz /input/brainmask_reg_T1.nii.gz -m -n -f .4    \" \n",
      "docker run --rm     --name SCSOQA1QOD     -v /mount/export/RESAMPLED_MICCAI_WMHS/Amst/GE3T/107/pre:/input     brain_pipeline/frsrf_minc_fsl     bash -c \". /etc/fsl/5.0/fsl.sh     && bet /input/reg_T1.nii.gz /input/brainmask_reg_T1.nii.gz -m -n -f .4    \" \n",
      "docker run --rm     --name YC035TCF6I     -v /mount/export/RESAMPLED_MICCAI_WMHS/Amst/GE3T/102/pre:/input     brain_pipeline/frsrf_minc_fsl     bash -c \". /etc/fsl/5.0/fsl.sh     && bet /input/reg_T1.nii.gz /input/brainmask_reg_T1.nii.gz -m -n -f .4    \" \n",
      "docker run --rm     --name KG5C59X5AI     -v /mount/export/RESAMPLED_MICCAI_WMHS/Amst/GE3T/101/pre:/input     brain_pipeline/frsrf_minc_fsl     bash -c \". /etc/fsl/5.0/fsl.sh     && bet /input/reg_T1.nii.gz /input/brainmask_reg_T1.nii.gz -m -n -f .4    \" \n",
      "docker run --rm     --name XQRJZ6AY2B     -v /mount/export/RESAMPLED_MICCAI_WMHS/Amst/GE3T/112/pre:/input     brain_pipeline/frsrf_minc_fsl     bash -c \". /etc/fsl/5.0/fsl.sh     && bet /input/reg_T1.nii.gz /input/brainmask_reg_T1.nii.gz -m -n -f .4    \" \n",
      "docker run --rm     --name KKK6TOMX0L     -v /mount/export/RESAMPLED_MICCAI_WMHS/Amst/GE3T/113/pre:/input     brain_pipeline/frsrf_minc_fsl     bash -c \". /etc/fsl/5.0/fsl.sh     && bet /input/reg_T1.nii.gz /input/brainmask_reg_T1.nii.gz -m -n -f .4    \" \n",
      "docker run --rm     --name ZHU76W7VXT     -v /mount/export/RESAMPLED_MICCAI_WMHS/Amst/GE3T/108/pre:/input     brain_pipeline/frsrf_minc_fsl     bash -c \". /etc/fsl/5.0/fsl.sh     && bet /input/reg_T1.nii.gz /input/brainmask_reg_T1.nii.gz -m -n -f .4    \" \n",
      "docker run --rm     --name 2N5GVL40V2     -v /mount/export/RESAMPLED_MICCAI_WMHS/Amst/GE3T/116/pre:/input     brain_pipeline/frsrf_minc_fsl     bash -c \". /etc/fsl/5.0/fsl.sh     && bet /input/reg_T1.nii.gz /input/brainmask_reg_T1.nii.gz -m -n -f .4    \" \n",
      "docker run --rm     --name BR4UDJ9KDH     -v /mount/export/RESAMPLED_MICCAI_WMHS/Amst/GE3T/126/pre:/input     brain_pipeline/frsrf_minc_fsl     bash -c \". /etc/fsl/5.0/fsl.sh     && bet /input/reg_T1.nii.gz /input/brainmask_reg_T1.nii.gz -m -n -f .4    \" \n",
      "docker run --rm     --name LYAE9IWJP4     -v /mount/export/RESAMPLED_MICCAI_WMHS/Amst/GE3T/109/pre:/input     brain_pipeline/frsrf_minc_fsl     bash -c \". /etc/fsl/5.0/fsl.sh     && bet /input/reg_T1.nii.gz /input/brainmask_reg_T1.nii.gz -m -n -f .4    \" \n",
      "docker run --rm     --name IQVBAMPAT5     -v /mount/export/RESAMPLED_MICCAI_WMHS/Amst/GE3T/106/pre:/input     brain_pipeline/frsrf_minc_fsl     bash -c \". /etc/fsl/5.0/fsl.sh     && bet /input/reg_T1.nii.gz /input/brainmask_reg_T1.nii.gz -m -n -f .4    \" \n",
      "docker run --rm     --name 9C33H7Q4WC     -v /mount/export/RESAMPLED_MICCAI_WMHS/Amst/GE3T/104/pre:/input     brain_pipeline/frsrf_minc_fsl     bash -c \". /etc/fsl/5.0/fsl.sh     && bet /input/reg_T1.nii.gz /input/brainmask_reg_T1.nii.gz -m -n -f .4    \" \n",
      "docker run --rm     --name LBOGJ054EB     -v /mount/export/RESAMPLED_MICCAI_WMHS/Amst/GE3T/110/pre:/input     brain_pipeline/frsrf_minc_fsl     bash -c \". /etc/fsl/5.0/fsl.sh     && bet /input/reg_T1.nii.gz /input/brainmask_reg_T1.nii.gz -m -n -f .4    \" \n",
      "docker run --rm     --name C1ZGIUCHB9     -v /mount/export/RESAMPLED_MICCAI_WMHS/Amst/GE3T/137/pre:/input     brain_pipeline/frsrf_minc_fsl     bash -c \". /etc/fsl/5.0/fsl.sh     && bet /input/reg_T1.nii.gz /input/brainmask_reg_T1.nii.gz -m -n -f .4    \" \n",
      "docker run --rm     --name 9M5KMIXU4I     -v /mount/export/RESAMPLED_MICCAI_WMHS/Amst/GE3T/144/pre:/input     brain_pipeline/frsrf_minc_fsl     bash -c \". /etc/fsl/5.0/fsl.sh     && bet /input/reg_T1.nii.gz /input/brainmask_reg_T1.nii.gz -m -n -f .4    \" \n",
      "docker run --rm     --name 0FUIL9U6YE     -v /mount/export/RESAMPLED_MICCAI_WMHS/Amst/GE3T/103/pre:/input     brain_pipeline/frsrf_minc_fsl     bash -c \". /etc/fsl/5.0/fsl.sh     && bet /input/reg_T1.nii.gz /input/brainmask_reg_T1.nii.gz -m -n -f .4    \" \n",
      "docker run --rm     --name XB1SEO1E70     -v /mount/export/RESAMPLED_MICCAI_WMHS/Amst/GE3T/115/pre:/input     brain_pipeline/frsrf_minc_fsl     bash -c \". /etc/fsl/5.0/fsl.sh     && bet /input/reg_T1.nii.gz /input/brainmask_reg_T1.nii.gz -m -n -f .4    \" \n",
      "docker run --rm     --name 5F1624F1OZ     -v /mount/export/RESAMPLED_MICCAI_WMHS/Amst/GE3T/132/pre:/input     brain_pipeline/frsrf_minc_fsl     bash -c \". /etc/fsl/5.0/fsl.sh     && bet /input/reg_T1.nii.gz /input/brainmask_reg_T1.nii.gz -m -n -f .4    \" \n",
      "docker run --rm     --name 00IZEZU6HL     -v /mount/export/RESAMPLED_MICCAI_WMHS/Amst/GE3T/105/pre:/input     brain_pipeline/frsrf_minc_fsl     bash -c \". /etc/fsl/5.0/fsl.sh     && bet /input/reg_T1.nii.gz /input/brainmask_reg_T1.nii.gz -m -n -f .4    \" \n",
      "docker run --rm     --name OK765NPEG9     -v /mount/export/RESAMPLED_MICCAI_WMHS/Utr/Utrecht/41/pre:/input     brain_pipeline/frsrf_minc_fsl     bash -c \". /etc/fsl/5.0/fsl.sh     && bet /input/reg_T1.nii.gz /input/brainmask_reg_T1.nii.gz -m -n -f .4    \" \n",
      "docker run --rm     --name OQEHYFD1RY     -v /mount/export/RESAMPLED_MICCAI_WMHS/Utr/Utrecht/2/pre:/input     brain_pipeline/frsrf_minc_fsl     bash -c \". /etc/fsl/5.0/fsl.sh     && bet /input/reg_T1.nii.gz /input/brainmask_reg_T1.nii.gz -m -n -f .4    \" \n",
      "docker run --rm     --name YRS7SPJM6F     -v /mount/export/RESAMPLED_MICCAI_WMHS/Utr/Utrecht/49/pre:/input     brain_pipeline/frsrf_minc_fsl     bash -c \". /etc/fsl/5.0/fsl.sh     && bet /input/reg_T1.nii.gz /input/brainmask_reg_T1.nii.gz -m -n -f .4    \" \n",
      "docker run --rm     --name F6N342OE49     -v /mount/export/RESAMPLED_MICCAI_WMHS/Utr/Utrecht/19/pre:/input     brain_pipeline/frsrf_minc_fsl     bash -c \". /etc/fsl/5.0/fsl.sh     && bet /input/reg_T1.nii.gz /input/brainmask_reg_T1.nii.gz -m -n -f .4    \" \n",
      "docker run --rm     --name P40R2I28CI     -v /mount/export/RESAMPLED_MICCAI_WMHS/Utr/Utrecht/39/pre:/input     brain_pipeline/frsrf_minc_fsl     bash -c \". /etc/fsl/5.0/fsl.sh     && bet /input/reg_T1.nii.gz /input/brainmask_reg_T1.nii.gz -m -n -f .4    \" \n",
      "docker run --rm     --name X3FJ3WKVZQ     -v /mount/export/RESAMPLED_MICCAI_WMHS/Utr/Utrecht/31/pre:/input     brain_pipeline/frsrf_minc_fsl     bash -c \". /etc/fsl/5.0/fsl.sh     && bet /input/reg_T1.nii.gz /input/brainmask_reg_T1.nii.gz -m -n -f .4    \" \n",
      "docker run --rm     --name FGWQO4LZ78     -v /mount/export/RESAMPLED_MICCAI_WMHS/Utr/Utrecht/35/pre:/input     brain_pipeline/frsrf_minc_fsl     bash -c \". /etc/fsl/5.0/fsl.sh     && bet /input/reg_T1.nii.gz /input/brainmask_reg_T1.nii.gz -m -n -f .4    \" \n",
      "docker run --rm     --name 57JQEXG1BC     -v /mount/export/RESAMPLED_MICCAI_WMHS/Utr/Utrecht/21/pre:/input     brain_pipeline/frsrf_minc_fsl     bash -c \". /etc/fsl/5.0/fsl.sh     && bet /input/reg_T1.nii.gz /input/brainmask_reg_T1.nii.gz -m -n -f .4    \" \n",
      "docker run --rm     --name TTG9RK2OZJ     -v /mount/export/RESAMPLED_MICCAI_WMHS/Utr/Utrecht/6/pre:/input     brain_pipeline/frsrf_minc_fsl     bash -c \". /etc/fsl/5.0/fsl.sh     && bet /input/reg_T1.nii.gz /input/brainmask_reg_T1.nii.gz -m -n -f .4    \" \n",
      "docker run --rm     --name MFIFF3Y0WF     -v /mount/export/RESAMPLED_MICCAI_WMHS/Utr/Utrecht/29/pre:/input     brain_pipeline/frsrf_minc_fsl     bash -c \". /etc/fsl/5.0/fsl.sh     && bet /input/reg_T1.nii.gz /input/brainmask_reg_T1.nii.gz -m -n -f .4    \" \n",
      "docker run --rm     --name 8XBHDN3XW8     -v /mount/export/RESAMPLED_MICCAI_WMHS/Utr/Utrecht/25/pre:/input     brain_pipeline/frsrf_minc_fsl     bash -c \". /etc/fsl/5.0/fsl.sh     && bet /input/reg_T1.nii.gz /input/brainmask_reg_T1.nii.gz -m -n -f .4    \" \n",
      "docker run --rm     --name LSSS05MOEY     -v /mount/export/RESAMPLED_MICCAI_WMHS/Utr/Utrecht/0/pre:/input     brain_pipeline/frsrf_minc_fsl     bash -c \". /etc/fsl/5.0/fsl.sh     && bet /input/reg_T1.nii.gz /input/brainmask_reg_T1.nii.gz -m -n -f .4    \" \n"
     ]
    },
    {
     "name": "stdout",
     "output_type": "stream",
     "text": [
      "docker run --rm     --name ICS9G2LS7R     -v /mount/export/RESAMPLED_MICCAI_WMHS/Utr/Utrecht/17/pre:/input     brain_pipeline/frsrf_minc_fsl     bash -c \". /etc/fsl/5.0/fsl.sh     && bet /input/reg_T1.nii.gz /input/brainmask_reg_T1.nii.gz -m -n -f .4    \" \n",
      "docker run --rm     --name 051681Q9PU     -v /mount/export/RESAMPLED_MICCAI_WMHS/Utr/Utrecht/11/pre:/input     brain_pipeline/frsrf_minc_fsl     bash -c \". /etc/fsl/5.0/fsl.sh     && bet /input/reg_T1.nii.gz /input/brainmask_reg_T1.nii.gz -m -n -f .4    \" \n",
      "docker run --rm     --name T0G1Z0BNTX     -v /mount/export/RESAMPLED_MICCAI_WMHS/Utr/Utrecht/27/pre:/input     brain_pipeline/frsrf_minc_fsl     bash -c \". /etc/fsl/5.0/fsl.sh     && bet /input/reg_T1.nii.gz /input/brainmask_reg_T1.nii.gz -m -n -f .4    \" \n",
      "docker run --rm     --name ESZOO7L0C3     -v /mount/export/RESAMPLED_MICCAI_WMHS/Utr/Utrecht/23/pre:/input     brain_pipeline/frsrf_minc_fsl     bash -c \". /etc/fsl/5.0/fsl.sh     && bet /input/reg_T1.nii.gz /input/brainmask_reg_T1.nii.gz -m -n -f .4    \" \n",
      "docker run --rm     --name JBHBH6SKQY     -v /mount/export/RESAMPLED_MICCAI_WMHS/Utr/Utrecht/4/pre:/input     brain_pipeline/frsrf_minc_fsl     bash -c \". /etc/fsl/5.0/fsl.sh     && bet /input/reg_T1.nii.gz /input/brainmask_reg_T1.nii.gz -m -n -f .4    \" \n",
      "docker run --rm     --name NU6PZHCT8G     -v /mount/export/RESAMPLED_MICCAI_WMHS/Utr/Utrecht/37/pre:/input     brain_pipeline/frsrf_minc_fsl     bash -c \". /etc/fsl/5.0/fsl.sh     && bet /input/reg_T1.nii.gz /input/brainmask_reg_T1.nii.gz -m -n -f .4    \" \n",
      "docker run --rm     --name HQJEN9L3KQ     -v /mount/export/RESAMPLED_MICCAI_WMHS/Utr/Utrecht/8/pre:/input     brain_pipeline/frsrf_minc_fsl     bash -c \". /etc/fsl/5.0/fsl.sh     && bet /input/reg_T1.nii.gz /input/brainmask_reg_T1.nii.gz -m -n -f .4    \" \n",
      "docker run --rm     --name TWGQKLTJGP     -v /mount/export/RESAMPLED_MICCAI_WMHS/Utr/Utrecht/33/pre:/input     brain_pipeline/frsrf_minc_fsl     bash -c \". /etc/fsl/5.0/fsl.sh     && bet /input/reg_T1.nii.gz /input/brainmask_reg_T1.nii.gz -m -n -f .4    \" \n",
      "docker run --rm     --name RJ2P3QKUIM     -v /mount/export/RESAMPLED_MICCAI_WMHS/Sing/Singapore/61/pre:/input     brain_pipeline/frsrf_minc_fsl     bash -c \". /etc/fsl/5.0/fsl.sh     && bet /input/reg_T1.nii.gz /input/brainmask_reg_T1.nii.gz -m -n -f .4    \" \n",
      "docker run --rm     --name 2HG14CSUO0     -v /mount/export/RESAMPLED_MICCAI_WMHS/Sing/Singapore/53/pre:/input     brain_pipeline/frsrf_minc_fsl     bash -c \". /etc/fsl/5.0/fsl.sh     && bet /input/reg_T1.nii.gz /input/brainmask_reg_T1.nii.gz -m -n -f .4    \" \n",
      "docker run --rm     --name 2MVV5L7F6A     -v /mount/export/RESAMPLED_MICCAI_WMHS/Sing/Singapore/60/pre:/input     brain_pipeline/frsrf_minc_fsl     bash -c \". /etc/fsl/5.0/fsl.sh     && bet /input/reg_T1.nii.gz /input/brainmask_reg_T1.nii.gz -m -n -f .4    \" \n",
      "docker run --rm     --name XQJM4IYUS7     -v /mount/export/RESAMPLED_MICCAI_WMHS/Sing/Singapore/68/pre:/input     brain_pipeline/frsrf_minc_fsl     bash -c \". /etc/fsl/5.0/fsl.sh     && bet /input/reg_T1.nii.gz /input/brainmask_reg_T1.nii.gz -m -n -f .4    \" \n",
      "docker run --rm     --name 7T9KSPA0A1     -v /mount/export/RESAMPLED_MICCAI_WMHS/Sing/Singapore/54/pre:/input     brain_pipeline/frsrf_minc_fsl     bash -c \". /etc/fsl/5.0/fsl.sh     && bet /input/reg_T1.nii.gz /input/brainmask_reg_T1.nii.gz -m -n -f .4    \" \n",
      "docker run --rm     --name 5MYQ411YZP     -v /mount/export/RESAMPLED_MICCAI_WMHS/Sing/Singapore/59/pre:/input     brain_pipeline/frsrf_minc_fsl     bash -c \". /etc/fsl/5.0/fsl.sh     && bet /input/reg_T1.nii.gz /input/brainmask_reg_T1.nii.gz -m -n -f .4    \" \n",
      "docker run --rm     --name XSACJW47S5     -v /mount/export/RESAMPLED_MICCAI_WMHS/Sing/Singapore/62/pre:/input     brain_pipeline/frsrf_minc_fsl     bash -c \". /etc/fsl/5.0/fsl.sh     && bet /input/reg_T1.nii.gz /input/brainmask_reg_T1.nii.gz -m -n -f .4    \" \n",
      "docker run --rm     --name VDM5ZFIY40     -v /mount/export/RESAMPLED_MICCAI_WMHS/Sing/Singapore/65/pre:/input     brain_pipeline/frsrf_minc_fsl     bash -c \". /etc/fsl/5.0/fsl.sh     && bet /input/reg_T1.nii.gz /input/brainmask_reg_T1.nii.gz -m -n -f .4    \" \n",
      "docker run --rm     --name 4I6Z4LW85O     -v /mount/export/RESAMPLED_MICCAI_WMHS/Sing/Singapore/55/pre:/input     brain_pipeline/frsrf_minc_fsl     bash -c \". /etc/fsl/5.0/fsl.sh     && bet /input/reg_T1.nii.gz /input/brainmask_reg_T1.nii.gz -m -n -f .4    \" \n",
      "docker run --rm     --name NIFOUJ44KH     -v /mount/export/RESAMPLED_MICCAI_WMHS/Sing/Singapore/63/pre:/input     brain_pipeline/frsrf_minc_fsl     bash -c \". /etc/fsl/5.0/fsl.sh     && bet /input/reg_T1.nii.gz /input/brainmask_reg_T1.nii.gz -m -n -f .4    \" \n",
      "docker run --rm     --name XL83MGAJVS     -v /mount/export/RESAMPLED_MICCAI_WMHS/Sing/Singapore/56/pre:/input     brain_pipeline/frsrf_minc_fsl     bash -c \". /etc/fsl/5.0/fsl.sh     && bet /input/reg_T1.nii.gz /input/brainmask_reg_T1.nii.gz -m -n -f .4    \" \n",
      "docker run --rm     --name FBREGPRUQM     -v /mount/export/RESAMPLED_MICCAI_WMHS/Sing/Singapore/66/pre:/input     brain_pipeline/frsrf_minc_fsl     bash -c \". /etc/fsl/5.0/fsl.sh     && bet /input/reg_T1.nii.gz /input/brainmask_reg_T1.nii.gz -m -n -f .4    \" \n",
      "docker run --rm     --name PKLAUZ421A     -v /mount/export/RESAMPLED_MICCAI_WMHS/Sing/Singapore/58/pre:/input     brain_pipeline/frsrf_minc_fsl     bash -c \". /etc/fsl/5.0/fsl.sh     && bet /input/reg_T1.nii.gz /input/brainmask_reg_T1.nii.gz -m -n -f .4    \" \n",
      "docker run --rm     --name UV83147G9F     -v /mount/export/RESAMPLED_MICCAI_WMHS/Sing/Singapore/57/pre:/input     brain_pipeline/frsrf_minc_fsl     bash -c \". /etc/fsl/5.0/fsl.sh     && bet /input/reg_T1.nii.gz /input/brainmask_reg_T1.nii.gz -m -n -f .4    \" \n",
      "docker run --rm     --name F01QKCDV3O     -v /mount/export/RESAMPLED_MICCAI_WMHS/Sing/Singapore/69/pre:/input     brain_pipeline/frsrf_minc_fsl     bash -c \". /etc/fsl/5.0/fsl.sh     && bet /input/reg_T1.nii.gz /input/brainmask_reg_T1.nii.gz -m -n -f .4    \" \n",
      "docker run --rm     --name NAZ4MFAZWC     -v /mount/export/RESAMPLED_MICCAI_WMHS/Sing/Singapore/67/pre:/input     brain_pipeline/frsrf_minc_fsl     bash -c \". /etc/fsl/5.0/fsl.sh     && bet /input/reg_T1.nii.gz /input/brainmask_reg_T1.nii.gz -m -n -f .4    \" \n",
      "docker run --rm     --name YYZYJ4KTB2     -v /mount/export/RESAMPLED_MICCAI_WMHS/Sing/Singapore/51/pre:/input     brain_pipeline/frsrf_minc_fsl     bash -c \". /etc/fsl/5.0/fsl.sh     && bet /input/reg_T1.nii.gz /input/brainmask_reg_T1.nii.gz -m -n -f .4    \" \n",
      "docker run --rm     --name UB21RJTRWY     -v /mount/export/RESAMPLED_MICCAI_WMHS/Sing/Singapore/50/pre:/input     brain_pipeline/frsrf_minc_fsl     bash -c \". /etc/fsl/5.0/fsl.sh     && bet /input/reg_T1.nii.gz /input/brainmask_reg_T1.nii.gz -m -n -f .4    \" \n",
      "docker run --rm     --name I077SPZYGX     -v /mount/export/RESAMPLED_MICCAI_WMHS/Sing/Singapore/52/pre:/input     brain_pipeline/frsrf_minc_fsl     bash -c \". /etc/fsl/5.0/fsl.sh     && bet /input/reg_T1.nii.gz /input/brainmask_reg_T1.nii.gz -m -n -f .4    \" \n",
      "docker run --rm     --name 43IM583V2K     -v /mount/export/RESAMPLED_MICCAI_WMHS/Sing/Singapore/64/pre:/input     brain_pipeline/frsrf_minc_fsl     bash -c \". /etc/fsl/5.0/fsl.sh     && bet /input/reg_T1.nii.gz /input/brainmask_reg_T1.nii.gz -m -n -f .4    \" \n"
     ]
    }
   ],
   "source": [
    "# also apply skull stripping \n",
    "\n",
    "for path, dirs, files in os.walk(path_to_copy):\n",
    "    for f in files:\n",
    "        if f == 'reg_T1.nii.gz':\n",
    "            skull_strip_for(path, f)"
   ]
  },
  {
   "cell_type": "raw",
   "metadata": {},
   "source": [
    "# my notes. when you get predicted labels  just run\n",
    "# flirt -in /input/wmh_predicted_mask.nii.gz -ref /input/pre/FLAIR.nii.gz -out /input/wmh_predicted.nii.gz -init /input/pre/some_transform.mat -applyisoxfm 1\n",
    "#\n",
    "#"
   ]
  },
  {
   "cell_type": "code",
   "execution_count": null,
   "metadata": {
    "collapsed": true
   },
   "outputs": [],
   "source": []
  },
  {
   "cell_type": "code",
   "execution_count": null,
   "metadata": {
    "collapsed": true
   },
   "outputs": [],
   "source": []
  },
  {
   "cell_type": "code",
   "execution_count": 23,
   "metadata": {
    "scrolled": false
   },
   "outputs": [
    {
     "name": "stdout",
     "output_type": "stream",
     "text": [
      "/nmnt/x05-ssd/RESAMPLED_MICCAI_WMHS/Amst/GE3T/126/:\r\n",
      "pre  reg_wmh.nii.gz  wmh.nii.gz\r\n",
      "\r\n",
      "/nmnt/x05-ssd/RESAMPLED_MICCAI_WMHS/Amst/GE3T/126/pre:\r\n",
      "brainmask_reg_T1_mask.nii.gz  reg_FLAIR.nii.gz\tsome_transform.mat\r\n",
      "FLAIR.nii.gz\t\t      reg_T1.nii.gz\tT1.nii.gz\r\n"
     ]
    }
   ],
   "source": [
    "!ls -R /nmnt/x05-ssd/RESAMPLED_MICCAI_WMHS/Amst/GE3T/126/"
   ]
  },
  {
   "cell_type": "code",
   "execution_count": null,
   "metadata": {
    "collapsed": true
   },
   "outputs": [],
   "source": []
  }
 ],
 "metadata": {
  "kernelspec": {
   "display_name": "Python (3.6)",
   "language": "python",
   "name": "myenv"
  },
  "language_info": {
   "codemirror_mode": {
    "name": "ipython",
    "version": 3
   },
   "file_extension": ".py",
   "mimetype": "text/x-python",
   "name": "python",
   "nbconvert_exporter": "python",
   "pygments_lexer": "ipython3",
   "version": "3.6.1"
  }
 },
 "nbformat": 4,
 "nbformat_minor": 2
}
